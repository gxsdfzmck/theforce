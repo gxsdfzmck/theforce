{
 "cells": [
  {
   "cell_type": "markdown",
   "metadata": {},
   "source": [
    "# 使用python3运行，解决encoding的问题"
   ]
  },
  {
   "cell_type": "code",
   "execution_count": 1,
   "metadata": {
    "collapsed": false
   },
   "outputs": [],
   "source": [
    "import ipywidgets as widgets\n",
    "from IPython.display import display\n",
    "\n",
    "from config import new_mysql_connect\n",
    "from link_name import IDNameLinker, IDNameSelector\n",
    "\n",
    "db = new_mysql_connect()\n",
    "cursor = db.cursor()"
   ]
  },
  {
   "cell_type": "markdown",
   "metadata": {},
   "source": [
    "# 准备原始数据"
   ]
  },
  {
   "cell_type": "code",
   "execution_count": 2,
   "metadata": {
    "collapsed": false
   },
   "outputs": [],
   "source": [
    "#cursor.execute('select distinct uname from allspark_dev.uniscore_16 where uid is null and uname not in (select verbose_name from datamodel.university_name_mapping)')\n",
    "cursor.execute('select distinct uname from allspark_dev.uniscore_16 where uid is null')\n",
    "results = cursor.fetchall() \n",
    "raw_datas = [ row[0] for row in results ]\n",
    "raw_count = len(raw_datas)"
   ]
  },
  {
   "cell_type": "markdown",
   "metadata": {},
   "source": [
    "# 准备标准数据"
   ]
  },
  {
   "cell_type": "code",
   "execution_count": 3,
   "metadata": {
    "collapsed": false
   },
   "outputs": [],
   "source": [
    "uname_selector = IDNameSelector('sdb.sdb_university', 'id', 'name')\n",
    "names = uname_selector.get_all()"
   ]
  },
  {
   "cell_type": "code",
   "execution_count": 4,
   "metadata": {
    "collapsed": true
   },
   "outputs": [],
   "source": [
    "import re\n",
    "class NameLinker(object):\n",
    "\n",
    "    def __init__(self, standards):\n",
    "        self._db = standards\n",
    "        self._name_patterns = []\n",
    "        self._name_patterns.append(re.compile('([^()]+)\\(引进[^()]+课程\\)'))\n",
    "        self._name_patterns.append(re.compile('([^()]+)\\([^()]+专业\\)'))\n",
    "        self._name_patterns.append(re.compile('([^()]+)\\(与[^()]+合办\\)'))\n",
    "        self._name_patterns.append(re.compile('([^()]+)\\(与[^()]+联办\\)'))\n",
    "        self._name_patterns.append(re.compile('([^()]+)\\([^()]*就读[^()]*\\)'))\n",
    "        self._name_patterns.append(re.compile('([^()]+)\\([^()]*办学[^()]*\\)'))\n",
    "        \n",
    "        self._split_pattern = re.compile('([^()]+)\\(原([^()]+)\\)')\n",
    "\n",
    "    def get(self, name):\n",
    "        result = self.get_equal_value(name)\n",
    "        if result:\n",
    "            return result    \n",
    "        for new_name in self.correct_name(name):\n",
    "            tmp = self.get_equal_value(new_name)\n",
    "            if tmp:\n",
    "                if result and result['id'] != tmp['id']:\n",
    "                    return\n",
    "                result = tmp\n",
    "        return result\n",
    "        \n",
    "    def get_equal_value(self, name):\n",
    "        for key, value in self._db.items():\n",
    "            if value == name:\n",
    "                return {'id': key, 'name': value}\n",
    "\n",
    "    def correct_name(self, name):\n",
    "        names = set()     \n",
    "        # 第一步：标准化名称\n",
    "        name = name.replace('（', '(').replace('）', ')')\n",
    "        name = name.replace('(较高收费)', '').replace('(较高学费)', '')\n",
    "        name = name.replace('(中外合作办学)', '').replace('(对外合作办学)', '')\n",
    "        name = name.replace('(仅招少数民族)', '')\n",
    "        name = name.replace('(护理)', '')\n",
    "        \n",
    "        # 补齐（）\n",
    "        if name.count('(') - name.count(')') == 1:\n",
    "            name = name + ')'\n",
    "        \n",
    "        # 正则修正\n",
    "        for pattern in self._name_patterns:        \n",
    "            matches = pattern.match(name)\n",
    "            if matches:\n",
    "                name = matches.group(1)\n",
    "        names.add(name)\n",
    "        \n",
    "        # 第二步：拆出可能的名称\n",
    "        matches = self._split_pattern.match(name)\n",
    "        if matches:\n",
    "            names.add(matches.group(1))\n",
    "            names.add(matches.group(2))\n",
    "        \n",
    "        return names\n",
    "\n",
    "linker = NameLinker(names)"
   ]
  },
  {
   "cell_type": "markdown",
   "metadata": {},
   "source": [
    "# 开始执行possible_values替换"
   ]
  },
  {
   "cell_type": "code",
   "execution_count": 5,
   "metadata": {
    "collapsed": false
   },
   "outputs": [
    {
     "name": "stdout",
     "output_type": "stream",
     "text": [
      "正常匹配： 488\n",
      "没有匹配： 326\n"
     ]
    }
   ],
   "source": [
    "results = []\n",
    "for name in raw_datas:\n",
    "    value = linker.get(name)\n",
    "    results.append({'name': name, 'value':value})\n",
    "results_no = [ item for item in results if item['value'] is None ]\n",
    "results_ok = [ item for item in results if item['value'] is not None ]\n",
    "\n",
    "print('正常匹配：', len(results_ok))\n",
    "print('没有匹配：', len(results_no))"
   ]
  },
  {
   "cell_type": "code",
   "execution_count": 6,
   "metadata": {
    "collapsed": false,
    "scrolled": true
   },
   "outputs": [
    {
     "name": "stdout",
     "output_type": "stream",
     "text": [
      "更新映射内容到数据库中\n"
     ]
    }
   ],
   "source": [
    "def _fn(e):\n",
    "    print('共有', raw_count, '个待映射的名称')\n",
    "    for i, name in enumerate(raw_datas):\n",
    "        print('[{}/{}]: {}'.format(i+1, raw_count, name))\n",
    "btn = widgets.Button(description='显示待处理的院校名称')\n",
    "btn.on_click(_fn)\n",
    "display(btn)\n",
    "\n",
    "def _fn(e):\n",
    "    print('共有', len(results_ok), '个待映射的名称')\n",
    "    for i, name in enumerate(results_ok):\n",
    "        item = results_ok[i]\n",
    "        print('[{}/{}]: {} -> {}'.format(i+1, len(results_ok), item['name'], item['value']))\n",
    "btn = widgets.Button(description='显示完成处理的院校名称')\n",
    "btn.on_click(_fn)\n",
    "display(btn)\n",
    "\n",
    "def _fn(e):\n",
    "    print('共有', len(results_no), '个待映射的名称')\n",
    "    for i, name in enumerate(results_no):\n",
    "        item = results_no[i]\n",
    "        print('[{}/{}]: {}'.format(i+1, len(results_no), item['name']))\n",
    "btn = widgets.Button(description='显示未完成处理的院校名称')\n",
    "btn.on_click(_fn)\n",
    "display(btn)\n",
    "\n",
    "def _fn(e):\n",
    "    print('更新映射内容到数据库中')\n",
    "    for i, name in enumerate(results_ok):\n",
    "        item = results_ok[i]\n",
    "        try:\n",
    "            cursor.execute('insert into datamodel.university_name_mapping(verbose_name, standard_name, standard_id) values(%s, %s, %s)', [item['name'], item['value']['name'], item['value']['id']])\n",
    "            print('[{}/{}]: {} -> {}'.format(i+1, len(results_ok), item['name'], item['value']))\n",
    "        except:\n",
    "            continue\n",
    "    print('结束更新映射内容到数据库中')\n",
    "btn = widgets.Button(description='更新映射内容到数据库中')\n",
    "btn.on_click(_fn)\n",
    "display(btn)\n",
    "\n",
    "def _fn(e):\n",
    "    print('关闭数据库连接')\n",
    "    cursor.close()\n",
    "    db.close()\n",
    "btn = widgets.Button(description='关闭数据库连接')\n",
    "btn.on_click(_fn)\n",
    "display(btn)"
   ]
  }
 ],
 "metadata": {
  "kernelspec": {
   "display_name": "Python 3",
   "language": "python",
   "name": "python3"
  },
  "language_info": {
   "codemirror_mode": {
    "name": "ipython",
    "version": 3
   },
   "file_extension": ".py",
   "mimetype": "text/x-python",
   "name": "python",
   "nbconvert_exporter": "python",
   "pygments_lexer": "ipython3",
   "version": "3.5.0"
  },
  "widgets": {
   "state": {
    "01505ce6247647b7b4002768cd72aee4": {
     "views": []
    },
    "025759c8f0bc49baa51a9909b424d871": {
     "views": []
    },
    "04ba7dcee5b4447db44f1b39af7bccb4": {
     "views": []
    },
    "07ec990f6bab4593b973983b9298ee72": {
     "views": []
    },
    "0bdd24782e22442cb11a22bed9971fe2": {
     "views": []
    },
    "0d4fb065b6e543b897e09573bdef7d75": {
     "views": []
    },
    "0f01a4fe238440e4bcb8539cd207192c": {
     "views": []
    },
    "0fbdfb631e254cd091060173245f6f7e": {
     "views": []
    },
    "10e32c9ea8004a72ba96f1eb327b3301": {
     "views": []
    },
    "12c29254db0748b19321057df43eadf5": {
     "views": []
    },
    "13e10c573ef6477aa0e331854f9f64a4": {
     "views": []
    },
    "149cf373f3e14c948e8d123605efbe26": {
     "views": []
    },
    "160e3e3ada57415089667fd3e040e04a": {
     "views": []
    },
    "16bf6243d10c4c898491298f0190a5a2": {
     "views": []
    },
    "1715ba73d68f4c669c531c8cd53d238a": {
     "views": []
    },
    "183d31017e394285b4f3122a5dbd9eb2": {
     "views": []
    },
    "1e678139cf014d4bb3a6218bfb7c70de": {
     "views": []
    },
    "2449041ae4284925b7523e1405c8ba69": {
     "views": []
    },
    "251ad185aa244c9f8cb834e33c83831a": {
     "views": [
      {
       "cell": {
        "cell_type": "code",
        "execution_count": 6,
        "metadata": {
         "collapsed": false,
         "scrolled": true,
         "trusted": true
        },
        "outputs": [
         {
          "name": "stdout",
          "output_type": "stream",
          "text": "更新映射内容到数据库中\n"
         }
        ],
        "source": "def _fn(e):\n    print('共有', raw_count, '个待映射的名称')\n    for i, name in enumerate(raw_datas):\n        print('[{}/{}]: {}'.format(i+1, raw_count, name))\nbtn = widgets.Button(description='显示待处理的院校名称')\nbtn.on_click(_fn)\ndisplay(btn)\n\ndef _fn(e):\n    print('共有', len(results_ok), '个待映射的名称')\n    for i, name in enumerate(results_ok):\n        item = results_ok[i]\n        print('[{}/{}]: {} -> {}'.format(i+1, len(results_ok), item['name'], item['value']))\nbtn = widgets.Button(description='显示完成处理的院校名称')\nbtn.on_click(_fn)\ndisplay(btn)\n\ndef _fn(e):\n    print('共有', len(results_no), '个待映射的名称')\n    for i, name in enumerate(results_no):\n        item = results_no[i]\n        print('[{}/{}]: {}'.format(i+1, len(results_no), item['name']))\nbtn = widgets.Button(description='显示未完成处理的院校名称')\nbtn.on_click(_fn)\ndisplay(btn)\n\ndef _fn(e):\n    print('更新映射内容到数据库中')\n    for i, name in enumerate(results_ok):\n        item = results_ok[i]\n        try:\n            cursor.execute('insert into datamodel.university_name_mapping(verbose_name, standard_name, standard_id) values(%s, %s, %s)', [item['name'], item['value']['name'], item['value']['id']])\n            print('[{}/{}]: {} -> {}'.format(i+1, len(results_ok), item['name'], item['value']))\n        except:\n            continue\n    print('结束更新映射内容到数据库中')\nbtn = widgets.Button(description='更新映射内容到数据库中')\nbtn.on_click(_fn)\ndisplay(btn)\n\ndef _fn(e):\n    print('关闭数据库连接')\n    cursor.close()\n    db.close()\nbtn = widgets.Button(description='关闭数据库连接')\nbtn.on_click(_fn)\ndisplay(btn)"
       },
       "cell_index": 9,
       "root": true
      }
     ]
    },
    "28618961455046fba79fc2ae5ebc1d1d": {
     "views": []
    },
    "28c9b9895edf4313a999e2a906727126": {
     "views": []
    },
    "2969355d1e4d43778cf922fac72e7d15": {
     "views": []
    },
    "29b600fbd6194fc1b40bdb53a1a73833": {
     "views": []
    },
    "2b27a1a1b47b4c6ebf6ae1c442bfa087": {
     "views": []
    },
    "2b8fcb81ff1a4e209714cd322e15f90f": {
     "views": []
    },
    "2e0ddcfe71904c399be5f41e8015d48f": {
     "views": []
    },
    "2fdeb17ead344da3a90e1eecf85a2feb": {
     "views": []
    },
    "31a3fbdeb6f04e8080db2a5507335b0e": {
     "views": []
    },
    "31a93ad722114241ac632d98e4cadbf9": {
     "views": []
    },
    "347fe7f6e570498f91ac1b0589bcfa5f": {
     "views": []
    },
    "3500f0235c22403e95f48cd059b11d6e": {
     "views": []
    },
    "35e1515205544b22b47d1671d8f47361": {
     "views": []
    },
    "39ac162d57404af9b42c046602e2478a": {
     "views": []
    },
    "3b6fa22b7bac4575977a5ac5235bf8e1": {
     "views": [
      {
       "cell": {
        "cell_type": "code",
        "execution_count": 6,
        "metadata": {
         "collapsed": false,
         "scrolled": true,
         "trusted": true
        },
        "outputs": [
         {
          "name": "stdout",
          "output_type": "stream",
          "text": "更新映射内容到数据库中\n"
         }
        ],
        "source": "def _fn(e):\n    print('共有', raw_count, '个待映射的名称')\n    for i, name in enumerate(raw_datas):\n        print('[{}/{}]: {}'.format(i+1, raw_count, name))\nbtn = widgets.Button(description='显示待处理的院校名称')\nbtn.on_click(_fn)\ndisplay(btn)\n\ndef _fn(e):\n    print('共有', len(results_ok), '个待映射的名称')\n    for i, name in enumerate(results_ok):\n        item = results_ok[i]\n        print('[{}/{}]: {} -> {}'.format(i+1, len(results_ok), item['name'], item['value']))\nbtn = widgets.Button(description='显示完成处理的院校名称')\nbtn.on_click(_fn)\ndisplay(btn)\n\ndef _fn(e):\n    print('共有', len(results_no), '个待映射的名称')\n    for i, name in enumerate(results_no):\n        item = results_no[i]\n        print('[{}/{}]: {}'.format(i+1, len(results_no), item['name']))\nbtn = widgets.Button(description='显示未完成处理的院校名称')\nbtn.on_click(_fn)\ndisplay(btn)\n\ndef _fn(e):\n    print('更新映射内容到数据库中')\n    for i, name in enumerate(results_ok):\n        item = results_ok[i]\n        try:\n            cursor.execute('insert into datamodel.university_name_mapping(verbose_name, standard_name, standard_id) values(%s, %s, %s)', [item['name'], item['value']['name'], item['value']['id']])\n            print('[{}/{}]: {} -> {}'.format(i+1, len(results_ok), item['name'], item['value']))\n        except:\n            continue\n    print('结束更新映射内容到数据库中')\nbtn = widgets.Button(description='更新映射内容到数据库中')\nbtn.on_click(_fn)\ndisplay(btn)\n\ndef _fn(e):\n    print('关闭数据库连接')\n    cursor.close()\n    db.close()\nbtn = widgets.Button(description='关闭数据库连接')\nbtn.on_click(_fn)\ndisplay(btn)"
       },
       "cell_index": 9,
       "root": true
      }
     ]
    },
    "3b818fa874204495b3ba333342ac9068": {
     "views": []
    },
    "3c61189b6e0d4e82a56a5c57e0c6a962": {
     "views": []
    },
    "3e485a38ff07424c80a86a7961765a71": {
     "views": []
    },
    "3f3ff6c6c6ba4f96a69ef7e8d2e954be": {
     "views": []
    },
    "3fe4c6deab9f439996511af6d8abb14d": {
     "views": [
      {
       "cell": {
        "cell_type": "code",
        "execution_count": 6,
        "metadata": {
         "collapsed": false,
         "scrolled": true,
         "trusted": true
        },
        "outputs": [
         {
          "name": "stdout",
          "output_type": "stream",
          "text": "更新映射内容到数据库中\n"
         }
        ],
        "source": "def _fn(e):\n    print('共有', raw_count, '个待映射的名称')\n    for i, name in enumerate(raw_datas):\n        print('[{}/{}]: {}'.format(i+1, raw_count, name))\nbtn = widgets.Button(description='显示待处理的院校名称')\nbtn.on_click(_fn)\ndisplay(btn)\n\ndef _fn(e):\n    print('共有', len(results_ok), '个待映射的名称')\n    for i, name in enumerate(results_ok):\n        item = results_ok[i]\n        print('[{}/{}]: {} -> {}'.format(i+1, len(results_ok), item['name'], item['value']))\nbtn = widgets.Button(description='显示完成处理的院校名称')\nbtn.on_click(_fn)\ndisplay(btn)\n\ndef _fn(e):\n    print('共有', len(results_no), '个待映射的名称')\n    for i, name in enumerate(results_no):\n        item = results_no[i]\n        print('[{}/{}]: {}'.format(i+1, len(results_no), item['name']))\nbtn = widgets.Button(description='显示未完成处理的院校名称')\nbtn.on_click(_fn)\ndisplay(btn)\n\ndef _fn(e):\n    print('更新映射内容到数据库中')\n    for i, name in enumerate(results_ok):\n        item = results_ok[i]\n        try:\n            cursor.execute('insert into datamodel.university_name_mapping(verbose_name, standard_name, standard_id) values(%s, %s, %s)', [item['name'], item['value']['name'], item['value']['id']])\n            print('[{}/{}]: {} -> {}'.format(i+1, len(results_ok), item['name'], item['value']))\n        except:\n            continue\n    print('结束更新映射内容到数据库中')\nbtn = widgets.Button(description='更新映射内容到数据库中')\nbtn.on_click(_fn)\ndisplay(btn)\n\ndef _fn(e):\n    print('关闭数据库连接')\n    cursor.close()\n    db.close()\nbtn = widgets.Button(description='关闭数据库连接')\nbtn.on_click(_fn)\ndisplay(btn)"
       },
       "cell_index": 9,
       "root": true
      }
     ]
    },
    "3feca9cf91c74787bbdbcd6eb5df930e": {
     "views": [
      {
       "cell": {
        "cell_type": "code",
        "execution_count": 6,
        "metadata": {
         "collapsed": false,
         "scrolled": true,
         "trusted": true
        },
        "outputs": [
         {
          "name": "stdout",
          "output_type": "stream",
          "text": "更新映射内容到数据库中\n"
         }
        ],
        "source": "def _fn(e):\n    print('共有', raw_count, '个待映射的名称')\n    for i, name in enumerate(raw_datas):\n        print('[{}/{}]: {}'.format(i+1, raw_count, name))\nbtn = widgets.Button(description='显示待处理的院校名称')\nbtn.on_click(_fn)\ndisplay(btn)\n\ndef _fn(e):\n    print('共有', len(results_ok), '个待映射的名称')\n    for i, name in enumerate(results_ok):\n        item = results_ok[i]\n        print('[{}/{}]: {} -> {}'.format(i+1, len(results_ok), item['name'], item['value']))\nbtn = widgets.Button(description='显示完成处理的院校名称')\nbtn.on_click(_fn)\ndisplay(btn)\n\ndef _fn(e):\n    print('共有', len(results_no), '个待映射的名称')\n    for i, name in enumerate(results_no):\n        item = results_no[i]\n        print('[{}/{}]: {}'.format(i+1, len(results_no), item['name']))\nbtn = widgets.Button(description='显示未完成处理的院校名称')\nbtn.on_click(_fn)\ndisplay(btn)\n\ndef _fn(e):\n    print('更新映射内容到数据库中')\n    for i, name in enumerate(results_ok):\n        item = results_ok[i]\n        try:\n            cursor.execute('insert into datamodel.university_name_mapping(verbose_name, standard_name, standard_id) values(%s, %s, %s)', [item['name'], item['value']['name'], item['value']['id']])\n            print('[{}/{}]: {} -> {}'.format(i+1, len(results_ok), item['name'], item['value']))\n        except:\n            continue\n    print('结束更新映射内容到数据库中')\nbtn = widgets.Button(description='更新映射内容到数据库中')\nbtn.on_click(_fn)\ndisplay(btn)\n\ndef _fn(e):\n    print('关闭数据库连接')\n    cursor.close()\n    db.close()\nbtn = widgets.Button(description='关闭数据库连接')\nbtn.on_click(_fn)\ndisplay(btn)"
       },
       "cell_index": 9,
       "root": true
      }
     ]
    },
    "432a18b003024ceeb3d79bdb7d7da7ff": {
     "views": []
    },
    "43f2611eed7141b19f29303e075f549c": {
     "views": [
      {
       "cell": {
        "cell_type": "code",
        "execution_count": 6,
        "metadata": {
         "collapsed": false,
         "scrolled": true,
         "trusted": true
        },
        "outputs": [
         {
          "name": "stdout",
          "output_type": "stream",
          "text": "更新映射内容到数据库中\n"
         }
        ],
        "source": "def _fn(e):\n    print('共有', raw_count, '个待映射的名称')\n    for i, name in enumerate(raw_datas):\n        print('[{}/{}]: {}'.format(i+1, raw_count, name))\nbtn = widgets.Button(description='显示待处理的院校名称')\nbtn.on_click(_fn)\ndisplay(btn)\n\ndef _fn(e):\n    print('共有', len(results_ok), '个待映射的名称')\n    for i, name in enumerate(results_ok):\n        item = results_ok[i]\n        print('[{}/{}]: {} -> {}'.format(i+1, len(results_ok), item['name'], item['value']))\nbtn = widgets.Button(description='显示完成处理的院校名称')\nbtn.on_click(_fn)\ndisplay(btn)\n\ndef _fn(e):\n    print('共有', len(results_no), '个待映射的名称')\n    for i, name in enumerate(results_no):\n        item = results_no[i]\n        print('[{}/{}]: {}'.format(i+1, len(results_no), item['name']))\nbtn = widgets.Button(description='显示未完成处理的院校名称')\nbtn.on_click(_fn)\ndisplay(btn)\n\ndef _fn(e):\n    print('更新映射内容到数据库中')\n    for i, name in enumerate(results_ok):\n        item = results_ok[i]\n        try:\n            cursor.execute('insert into datamodel.university_name_mapping(verbose_name, standard_name, standard_id) values(%s, %s, %s)', [item['name'], item['value']['name'], item['value']['id']])\n            print('[{}/{}]: {} -> {}'.format(i+1, len(results_ok), item['name'], item['value']))\n        except:\n            continue\n    print('结束更新映射内容到数据库中')\nbtn = widgets.Button(description='更新映射内容到数据库中')\nbtn.on_click(_fn)\ndisplay(btn)\n\ndef _fn(e):\n    print('关闭数据库连接')\n    cursor.close()\n    db.close()\nbtn = widgets.Button(description='关闭数据库连接')\nbtn.on_click(_fn)\ndisplay(btn)"
       },
       "cell_index": 9,
       "root": true
      }
     ]
    },
    "44eaef9eba004313ba1bdffd24f4c58b": {
     "views": []
    },
    "4537ce482a4a491088f0fdfd5531c1c2": {
     "views": [
      {
       "cell": {
        "cell_type": "code",
        "execution_count": 6,
        "metadata": {
         "collapsed": false,
         "scrolled": true,
         "trusted": true
        },
        "outputs": [
         {
          "name": "stdout",
          "output_type": "stream",
          "text": "更新映射内容到数据库中\n"
         }
        ],
        "source": "def _fn(e):\n    print('共有', raw_count, '个待映射的名称')\n    for i, name in enumerate(raw_datas):\n        print('[{}/{}]: {}'.format(i+1, raw_count, name))\nbtn = widgets.Button(description='显示待处理的院校名称')\nbtn.on_click(_fn)\ndisplay(btn)\n\ndef _fn(e):\n    print('共有', len(results_ok), '个待映射的名称')\n    for i, name in enumerate(results_ok):\n        item = results_ok[i]\n        print('[{}/{}]: {} -> {}'.format(i+1, len(results_ok), item['name'], item['value']))\nbtn = widgets.Button(description='显示完成处理的院校名称')\nbtn.on_click(_fn)\ndisplay(btn)\n\ndef _fn(e):\n    print('共有', len(results_no), '个待映射的名称')\n    for i, name in enumerate(results_no):\n        item = results_no[i]\n        print('[{}/{}]: {}'.format(i+1, len(results_no), item['name']))\nbtn = widgets.Button(description='显示未完成处理的院校名称')\nbtn.on_click(_fn)\ndisplay(btn)\n\ndef _fn(e):\n    print('更新映射内容到数据库中')\n    for i, name in enumerate(results_ok):\n        item = results_ok[i]\n        try:\n            cursor.execute('insert into datamodel.university_name_mapping(verbose_name, standard_name, standard_id) values(%s, %s, %s)', [item['name'], item['value']['name'], item['value']['id']])\n            print('[{}/{}]: {} -> {}'.format(i+1, len(results_ok), item['name'], item['value']))\n        except:\n            continue\n    print('结束更新映射内容到数据库中')\nbtn = widgets.Button(description='更新映射内容到数据库中')\nbtn.on_click(_fn)\ndisplay(btn)\n\ndef _fn(e):\n    print('关闭数据库连接')\n    cursor.close()\n    db.close()\nbtn = widgets.Button(description='关闭数据库连接')\nbtn.on_click(_fn)\ndisplay(btn)"
       },
       "cell_index": 9,
       "root": true
      }
     ]
    },
    "465e34745fa04a18be9eb16c8c2148ec": {
     "views": []
    },
    "481c5e1734754d01afd668839bcaea5b": {
     "views": []
    },
    "4b32ec40da0343e8a275b06eae47ca11": {
     "views": []
    },
    "4cabf92344104616984b28410b25c762": {
     "views": []
    },
    "508506e1473546edab89e5923c140d53": {
     "views": []
    },
    "527e623a5e6b46538bd88b2aac9bc2c7": {
     "views": [
      {
       "cell": {
        "cell_type": "code",
        "execution_count": 6,
        "metadata": {
         "collapsed": false,
         "scrolled": true,
         "trusted": true
        },
        "outputs": [
         {
          "name": "stdout",
          "output_type": "stream",
          "text": "更新映射内容到数据库中\n"
         }
        ],
        "source": "def _fn(e):\n    print('共有', raw_count, '个待映射的名称')\n    for i, name in enumerate(raw_datas):\n        print('[{}/{}]: {}'.format(i+1, raw_count, name))\nbtn = widgets.Button(description='显示待处理的院校名称')\nbtn.on_click(_fn)\ndisplay(btn)\n\ndef _fn(e):\n    print('共有', len(results_ok), '个待映射的名称')\n    for i, name in enumerate(results_ok):\n        item = results_ok[i]\n        print('[{}/{}]: {} -> {}'.format(i+1, len(results_ok), item['name'], item['value']))\nbtn = widgets.Button(description='显示完成处理的院校名称')\nbtn.on_click(_fn)\ndisplay(btn)\n\ndef _fn(e):\n    print('共有', len(results_no), '个待映射的名称')\n    for i, name in enumerate(results_no):\n        item = results_no[i]\n        print('[{}/{}]: {}'.format(i+1, len(results_no), item['name']))\nbtn = widgets.Button(description='显示未完成处理的院校名称')\nbtn.on_click(_fn)\ndisplay(btn)\n\ndef _fn(e):\n    print('更新映射内容到数据库中')\n    for i, name in enumerate(results_ok):\n        item = results_ok[i]\n        try:\n            cursor.execute('insert into datamodel.university_name_mapping(verbose_name, standard_name, standard_id) values(%s, %s, %s)', [item['name'], item['value']['name'], item['value']['id']])\n            print('[{}/{}]: {} -> {}'.format(i+1, len(results_ok), item['name'], item['value']))\n        except:\n            continue\n    print('结束更新映射内容到数据库中')\nbtn = widgets.Button(description='更新映射内容到数据库中')\nbtn.on_click(_fn)\ndisplay(btn)\n\ndef _fn(e):\n    print('关闭数据库连接')\n    cursor.close()\n    db.close()\nbtn = widgets.Button(description='关闭数据库连接')\nbtn.on_click(_fn)\ndisplay(btn)"
       },
       "cell_index": 9,
       "root": true
      }
     ]
    },
    "5820e35d0db24ec6aa7bde390532f04f": {
     "views": []
    },
    "5835b65cfaf749dd9994431726c42a23": {
     "views": []
    },
    "583e54dc9c9a4cd3828e8aa72bb2a02c": {
     "views": []
    },
    "5cc6ee5a934b4f0baf6339ab5baf6b16": {
     "views": []
    },
    "60feb65984fc4420b17b4cf107eefb96": {
     "views": []
    },
    "61016ef450c744959e3731cec04287f6": {
     "views": []
    },
    "6637f698778a4904bbd3fb85bbe461a6": {
     "views": []
    },
    "68af7ed270a84e7da69a8602239a68b1": {
     "views": [
      {
       "cell": {
        "cell_type": "code",
        "execution_count": 6,
        "metadata": {
         "collapsed": false,
         "scrolled": true,
         "trusted": true
        },
        "outputs": [
         {
          "name": "stdout",
          "output_type": "stream",
          "text": "更新映射内容到数据库中\n"
         }
        ],
        "source": "def _fn(e):\n    print('共有', raw_count, '个待映射的名称')\n    for i, name in enumerate(raw_datas):\n        print('[{}/{}]: {}'.format(i+1, raw_count, name))\nbtn = widgets.Button(description='显示待处理的院校名称')\nbtn.on_click(_fn)\ndisplay(btn)\n\ndef _fn(e):\n    print('共有', len(results_ok), '个待映射的名称')\n    for i, name in enumerate(results_ok):\n        item = results_ok[i]\n        print('[{}/{}]: {} -> {}'.format(i+1, len(results_ok), item['name'], item['value']))\nbtn = widgets.Button(description='显示完成处理的院校名称')\nbtn.on_click(_fn)\ndisplay(btn)\n\ndef _fn(e):\n    print('共有', len(results_no), '个待映射的名称')\n    for i, name in enumerate(results_no):\n        item = results_no[i]\n        print('[{}/{}]: {}'.format(i+1, len(results_no), item['name']))\nbtn = widgets.Button(description='显示未完成处理的院校名称')\nbtn.on_click(_fn)\ndisplay(btn)\n\ndef _fn(e):\n    print('更新映射内容到数据库中')\n    for i, name in enumerate(results_ok):\n        item = results_ok[i]\n        try:\n            cursor.execute('insert into datamodel.university_name_mapping(verbose_name, standard_name, standard_id) values(%s, %s, %s)', [item['name'], item['value']['name'], item['value']['id']])\n            print('[{}/{}]: {} -> {}'.format(i+1, len(results_ok), item['name'], item['value']))\n        except:\n            continue\n    print('结束更新映射内容到数据库中')\nbtn = widgets.Button(description='更新映射内容到数据库中')\nbtn.on_click(_fn)\ndisplay(btn)\n\ndef _fn(e):\n    print('关闭数据库连接')\n    cursor.close()\n    db.close()\nbtn = widgets.Button(description='关闭数据库连接')\nbtn.on_click(_fn)\ndisplay(btn)"
       },
       "cell_index": 9,
       "root": true
      }
     ]
    },
    "6ab9fe69629c436d931c60cc25f28a41": {
     "views": []
    },
    "6beb97b881a84b568ddad46fc94dc3d7": {
     "views": []
    },
    "6ce5a3a8838c46c2908bc751e23b351a": {
     "views": []
    },
    "6d7f4ea6e73f4dfabd61020a594f35f0": {
     "views": []
    },
    "6dc54654a8504f58893b8ca908e8ef2f": {
     "views": [
      {
       "cell": {
        "cell_type": "code",
        "execution_count": 6,
        "metadata": {
         "collapsed": false,
         "scrolled": true,
         "trusted": true
        },
        "outputs": [
         {
          "name": "stdout",
          "output_type": "stream",
          "text": "更新映射内容到数据库中\n"
         }
        ],
        "source": "def _fn(e):\n    print('共有', raw_count, '个待映射的名称')\n    for i, name in enumerate(raw_datas):\n        print('[{}/{}]: {}'.format(i+1, raw_count, name))\nbtn = widgets.Button(description='显示待处理的院校名称')\nbtn.on_click(_fn)\ndisplay(btn)\n\ndef _fn(e):\n    print('共有', len(results_ok), '个待映射的名称')\n    for i, name in enumerate(results_ok):\n        item = results_ok[i]\n        print('[{}/{}]: {} -> {}'.format(i+1, len(results_ok), item['name'], item['value']))\nbtn = widgets.Button(description='显示完成处理的院校名称')\nbtn.on_click(_fn)\ndisplay(btn)\n\ndef _fn(e):\n    print('共有', len(results_no), '个待映射的名称')\n    for i, name in enumerate(results_no):\n        item = results_no[i]\n        print('[{}/{}]: {}'.format(i+1, len(results_no), item['name']))\nbtn = widgets.Button(description='显示未完成处理的院校名称')\nbtn.on_click(_fn)\ndisplay(btn)\n\ndef _fn(e):\n    print('更新映射内容到数据库中')\n    for i, name in enumerate(results_ok):\n        item = results_ok[i]\n        try:\n            cursor.execute('insert into datamodel.university_name_mapping(verbose_name, standard_name, standard_id) values(%s, %s, %s)', [item['name'], item['value']['name'], item['value']['id']])\n            print('[{}/{}]: {} -> {}'.format(i+1, len(results_ok), item['name'], item['value']))\n        except:\n            continue\n    print('结束更新映射内容到数据库中')\nbtn = widgets.Button(description='更新映射内容到数据库中')\nbtn.on_click(_fn)\ndisplay(btn)\n\ndef _fn(e):\n    print('关闭数据库连接')\n    cursor.close()\n    db.close()\nbtn = widgets.Button(description='关闭数据库连接')\nbtn.on_click(_fn)\ndisplay(btn)"
       },
       "cell_index": 9,
       "root": true
      }
     ]
    },
    "6e014bda021a4b4682c72a94030e3d46": {
     "views": [
      {
       "cell": {
        "cell_type": "code",
        "execution_count": 6,
        "metadata": {
         "collapsed": false,
         "scrolled": true,
         "trusted": true
        },
        "outputs": [
         {
          "name": "stdout",
          "output_type": "stream",
          "text": "更新映射内容到数据库中\n"
         }
        ],
        "source": "def _fn(e):\n    print('共有', raw_count, '个待映射的名称')\n    for i, name in enumerate(raw_datas):\n        print('[{}/{}]: {}'.format(i+1, raw_count, name))\nbtn = widgets.Button(description='显示待处理的院校名称')\nbtn.on_click(_fn)\ndisplay(btn)\n\ndef _fn(e):\n    print('共有', len(results_ok), '个待映射的名称')\n    for i, name in enumerate(results_ok):\n        item = results_ok[i]\n        print('[{}/{}]: {} -> {}'.format(i+1, len(results_ok), item['name'], item['value']))\nbtn = widgets.Button(description='显示完成处理的院校名称')\nbtn.on_click(_fn)\ndisplay(btn)\n\ndef _fn(e):\n    print('共有', len(results_no), '个待映射的名称')\n    for i, name in enumerate(results_no):\n        item = results_no[i]\n        print('[{}/{}]: {}'.format(i+1, len(results_no), item['name']))\nbtn = widgets.Button(description='显示未完成处理的院校名称')\nbtn.on_click(_fn)\ndisplay(btn)\n\ndef _fn(e):\n    print('更新映射内容到数据库中')\n    for i, name in enumerate(results_ok):\n        item = results_ok[i]\n        try:\n            cursor.execute('insert into datamodel.university_name_mapping(verbose_name, standard_name, standard_id) values(%s, %s, %s)', [item['name'], item['value']['name'], item['value']['id']])\n            print('[{}/{}]: {} -> {}'.format(i+1, len(results_ok), item['name'], item['value']))\n        except:\n            continue\n    print('结束更新映射内容到数据库中')\nbtn = widgets.Button(description='更新映射内容到数据库中')\nbtn.on_click(_fn)\ndisplay(btn)\n\ndef _fn(e):\n    print('关闭数据库连接')\n    cursor.close()\n    db.close()\nbtn = widgets.Button(description='关闭数据库连接')\nbtn.on_click(_fn)\ndisplay(btn)"
       },
       "cell_index": 9,
       "root": true
      }
     ]
    },
    "6e12ab68068449da8fca5c3ae2c93420": {
     "views": []
    },
    "6f92f9fe0df1460d91342127df25155b": {
     "views": []
    },
    "74b73637fe1f49cfa946915603dabf5f": {
     "views": []
    },
    "7659104bba694e81bd0635d51f4c22e7": {
     "views": []
    },
    "76a8763730534f84b45ce40684a1a235": {
     "views": []
    },
    "77466ae4221e411bae5f8df7b4cf6a65": {
     "views": [
      {
       "cell": {
        "cell_type": "code",
        "execution_count": 6,
        "metadata": {
         "collapsed": false,
         "scrolled": true,
         "trusted": true
        },
        "outputs": [
         {
          "name": "stdout",
          "output_type": "stream",
          "text": "更新映射内容到数据库中\n"
         }
        ],
        "source": "def _fn(e):\n    print('共有', raw_count, '个待映射的名称')\n    for i, name in enumerate(raw_datas):\n        print('[{}/{}]: {}'.format(i+1, raw_count, name))\nbtn = widgets.Button(description='显示待处理的院校名称')\nbtn.on_click(_fn)\ndisplay(btn)\n\ndef _fn(e):\n    print('共有', len(results_ok), '个待映射的名称')\n    for i, name in enumerate(results_ok):\n        item = results_ok[i]\n        print('[{}/{}]: {} -> {}'.format(i+1, len(results_ok), item['name'], item['value']))\nbtn = widgets.Button(description='显示完成处理的院校名称')\nbtn.on_click(_fn)\ndisplay(btn)\n\ndef _fn(e):\n    print('共有', len(results_no), '个待映射的名称')\n    for i, name in enumerate(results_no):\n        item = results_no[i]\n        print('[{}/{}]: {}'.format(i+1, len(results_no), item['name']))\nbtn = widgets.Button(description='显示未完成处理的院校名称')\nbtn.on_click(_fn)\ndisplay(btn)\n\ndef _fn(e):\n    print('更新映射内容到数据库中')\n    for i, name in enumerate(results_ok):\n        item = results_ok[i]\n        try:\n            cursor.execute('insert into datamodel.university_name_mapping(verbose_name, standard_name, standard_id) values(%s, %s, %s)', [item['name'], item['value']['name'], item['value']['id']])\n            print('[{}/{}]: {} -> {}'.format(i+1, len(results_ok), item['name'], item['value']))\n        except:\n            continue\n    print('结束更新映射内容到数据库中')\nbtn = widgets.Button(description='更新映射内容到数据库中')\nbtn.on_click(_fn)\ndisplay(btn)\n\ndef _fn(e):\n    print('关闭数据库连接')\n    cursor.close()\n    db.close()\nbtn = widgets.Button(description='关闭数据库连接')\nbtn.on_click(_fn)\ndisplay(btn)"
       },
       "cell_index": 9,
       "root": true
      }
     ]
    },
    "7b9f4e9c8f7e401d90686a7230ef7da2": {
     "views": []
    },
    "7ba3c3ac85ff4a13bd5eb6537a70fff4": {
     "views": []
    },
    "7c1418c7fce84433bb967f9eecdeabc5": {
     "views": []
    },
    "7f7fe37a20f7470d95d8e52c07d2e682": {
     "views": []
    },
    "841f04ec58c241be9ec0da9c60c172f9": {
     "views": []
    },
    "869269ce3b454ce2809c906ae05852f0": {
     "views": []
    },
    "899c9869de32464ea7fca294555bdc74": {
     "views": []
    },
    "8b6b6bf581bc48458811febb6bfb3bb9": {
     "views": [
      {
       "cell": {
        "cell_type": "code",
        "execution_count": 6,
        "metadata": {
         "collapsed": false,
         "scrolled": true,
         "trusted": true
        },
        "outputs": [
         {
          "name": "stdout",
          "output_type": "stream",
          "text": "更新映射内容到数据库中\n"
         }
        ],
        "source": "def _fn(e):\n    print('共有', raw_count, '个待映射的名称')\n    for i, name in enumerate(raw_datas):\n        print('[{}/{}]: {}'.format(i+1, raw_count, name))\nbtn = widgets.Button(description='显示待处理的院校名称')\nbtn.on_click(_fn)\ndisplay(btn)\n\ndef _fn(e):\n    print('共有', len(results_ok), '个待映射的名称')\n    for i, name in enumerate(results_ok):\n        item = results_ok[i]\n        print('[{}/{}]: {} -> {}'.format(i+1, len(results_ok), item['name'], item['value']))\nbtn = widgets.Button(description='显示完成处理的院校名称')\nbtn.on_click(_fn)\ndisplay(btn)\n\ndef _fn(e):\n    print('共有', len(results_no), '个待映射的名称')\n    for i, name in enumerate(results_no):\n        item = results_no[i]\n        print('[{}/{}]: {}'.format(i+1, len(results_no), item['name']))\nbtn = widgets.Button(description='显示未完成处理的院校名称')\nbtn.on_click(_fn)\ndisplay(btn)\n\ndef _fn(e):\n    print('更新映射内容到数据库中')\n    for i, name in enumerate(results_ok):\n        item = results_ok[i]\n        try:\n            cursor.execute('insert into datamodel.university_name_mapping(verbose_name, standard_name, standard_id) values(%s, %s, %s)', [item['name'], item['value']['name'], item['value']['id']])\n            print('[{}/{}]: {} -> {}'.format(i+1, len(results_ok), item['name'], item['value']))\n        except:\n            continue\n    print('结束更新映射内容到数据库中')\nbtn = widgets.Button(description='更新映射内容到数据库中')\nbtn.on_click(_fn)\ndisplay(btn)\n\ndef _fn(e):\n    print('关闭数据库连接')\n    cursor.close()\n    db.close()\nbtn = widgets.Button(description='关闭数据库连接')\nbtn.on_click(_fn)\ndisplay(btn)"
       },
       "cell_index": 9,
       "root": true
      }
     ]
    },
    "8bf1767c4d784a12b247a46e72e14265": {
     "views": []
    },
    "8fd30f5d26574175929dd90677ee7b1e": {
     "views": [
      {
       "cell": {
        "cell_type": "code",
        "execution_count": 6,
        "metadata": {
         "collapsed": false,
         "scrolled": true,
         "trusted": true
        },
        "outputs": [
         {
          "name": "stdout",
          "output_type": "stream",
          "text": "更新映射内容到数据库中\n"
         }
        ],
        "source": "def _fn(e):\n    print('共有', raw_count, '个待映射的名称')\n    for i, name in enumerate(raw_datas):\n        print('[{}/{}]: {}'.format(i+1, raw_count, name))\nbtn = widgets.Button(description='显示待处理的院校名称')\nbtn.on_click(_fn)\ndisplay(btn)\n\ndef _fn(e):\n    print('共有', len(results_ok), '个待映射的名称')\n    for i, name in enumerate(results_ok):\n        item = results_ok[i]\n        print('[{}/{}]: {} -> {}'.format(i+1, len(results_ok), item['name'], item['value']))\nbtn = widgets.Button(description='显示完成处理的院校名称')\nbtn.on_click(_fn)\ndisplay(btn)\n\ndef _fn(e):\n    print('共有', len(results_no), '个待映射的名称')\n    for i, name in enumerate(results_no):\n        item = results_no[i]\n        print('[{}/{}]: {}'.format(i+1, len(results_no), item['name']))\nbtn = widgets.Button(description='显示未完成处理的院校名称')\nbtn.on_click(_fn)\ndisplay(btn)\n\ndef _fn(e):\n    print('更新映射内容到数据库中')\n    for i, name in enumerate(results_ok):\n        item = results_ok[i]\n        try:\n            cursor.execute('insert into datamodel.university_name_mapping(verbose_name, standard_name, standard_id) values(%s, %s, %s)', [item['name'], item['value']['name'], item['value']['id']])\n            print('[{}/{}]: {} -> {}'.format(i+1, len(results_ok), item['name'], item['value']))\n        except:\n            continue\n    print('结束更新映射内容到数据库中')\nbtn = widgets.Button(description='更新映射内容到数据库中')\nbtn.on_click(_fn)\ndisplay(btn)\n\ndef _fn(e):\n    print('关闭数据库连接')\n    cursor.close()\n    db.close()\nbtn = widgets.Button(description='关闭数据库连接')\nbtn.on_click(_fn)\ndisplay(btn)"
       },
       "cell_index": 9,
       "root": true
      }
     ]
    },
    "90c110d6919242709fccaab797c9c60a": {
     "views": []
    },
    "90d5cb1f5878471a909571c6190582e0": {
     "views": [
      {
       "cell": {
        "cell_type": "code",
        "execution_count": 6,
        "metadata": {
         "collapsed": false,
         "scrolled": true,
         "trusted": true
        },
        "outputs": [
         {
          "name": "stdout",
          "output_type": "stream",
          "text": "更新映射内容到数据库中\n"
         }
        ],
        "source": "def _fn(e):\n    print('共有', raw_count, '个待映射的名称')\n    for i, name in enumerate(raw_datas):\n        print('[{}/{}]: {}'.format(i+1, raw_count, name))\nbtn = widgets.Button(description='显示待处理的院校名称')\nbtn.on_click(_fn)\ndisplay(btn)\n\ndef _fn(e):\n    print('共有', len(results_ok), '个待映射的名称')\n    for i, name in enumerate(results_ok):\n        item = results_ok[i]\n        print('[{}/{}]: {} -> {}'.format(i+1, len(results_ok), item['name'], item['value']))\nbtn = widgets.Button(description='显示完成处理的院校名称')\nbtn.on_click(_fn)\ndisplay(btn)\n\ndef _fn(e):\n    print('共有', len(results_no), '个待映射的名称')\n    for i, name in enumerate(results_no):\n        item = results_no[i]\n        print('[{}/{}]: {}'.format(i+1, len(results_no), item['name']))\nbtn = widgets.Button(description='显示未完成处理的院校名称')\nbtn.on_click(_fn)\ndisplay(btn)\n\ndef _fn(e):\n    print('更新映射内容到数据库中')\n    for i, name in enumerate(results_ok):\n        item = results_ok[i]\n        try:\n            cursor.execute('insert into datamodel.university_name_mapping(verbose_name, standard_name, standard_id) values(%s, %s, %s)', [item['name'], item['value']['name'], item['value']['id']])\n            print('[{}/{}]: {} -> {}'.format(i+1, len(results_ok), item['name'], item['value']))\n        except:\n            continue\n    print('结束更新映射内容到数据库中')\nbtn = widgets.Button(description='更新映射内容到数据库中')\nbtn.on_click(_fn)\ndisplay(btn)\n\ndef _fn(e):\n    print('关闭数据库连接')\n    cursor.close()\n    db.close()\nbtn = widgets.Button(description='关闭数据库连接')\nbtn.on_click(_fn)\ndisplay(btn)"
       },
       "cell_index": 9,
       "root": true
      }
     ]
    },
    "923b79df5c0a437fa7d8dfde1709cbac": {
     "views": []
    },
    "9370fb33eecd4deaafbbbd23962deefd": {
     "views": []
    },
    "93d235cb9f9f4571a850471af0f84b62": {
     "views": []
    },
    "9527c61799904c6882b96b1c77bb6b6c": {
     "views": [
      {
       "cell": {
        "cell_type": "code",
        "execution_count": 6,
        "metadata": {
         "collapsed": false,
         "scrolled": true,
         "trusted": true
        },
        "outputs": [
         {
          "name": "stdout",
          "output_type": "stream",
          "text": "更新映射内容到数据库中\n"
         }
        ],
        "source": "def _fn(e):\n    print('共有', raw_count, '个待映射的名称')\n    for i, name in enumerate(raw_datas):\n        print('[{}/{}]: {}'.format(i+1, raw_count, name))\nbtn = widgets.Button(description='显示待处理的院校名称')\nbtn.on_click(_fn)\ndisplay(btn)\n\ndef _fn(e):\n    print('共有', len(results_ok), '个待映射的名称')\n    for i, name in enumerate(results_ok):\n        item = results_ok[i]\n        print('[{}/{}]: {} -> {}'.format(i+1, len(results_ok), item['name'], item['value']))\nbtn = widgets.Button(description='显示完成处理的院校名称')\nbtn.on_click(_fn)\ndisplay(btn)\n\ndef _fn(e):\n    print('共有', len(results_no), '个待映射的名称')\n    for i, name in enumerate(results_no):\n        item = results_no[i]\n        print('[{}/{}]: {}'.format(i+1, len(results_no), item['name']))\nbtn = widgets.Button(description='显示未完成处理的院校名称')\nbtn.on_click(_fn)\ndisplay(btn)\n\ndef _fn(e):\n    print('更新映射内容到数据库中')\n    for i, name in enumerate(results_ok):\n        item = results_ok[i]\n        try:\n            cursor.execute('insert into datamodel.university_name_mapping(verbose_name, standard_name, standard_id) values(%s, %s, %s)', [item['name'], item['value']['name'], item['value']['id']])\n            print('[{}/{}]: {} -> {}'.format(i+1, len(results_ok), item['name'], item['value']))\n        except:\n            continue\n    print('结束更新映射内容到数据库中')\nbtn = widgets.Button(description='更新映射内容到数据库中')\nbtn.on_click(_fn)\ndisplay(btn)\n\ndef _fn(e):\n    print('关闭数据库连接')\n    cursor.close()\n    db.close()\nbtn = widgets.Button(description='关闭数据库连接')\nbtn.on_click(_fn)\ndisplay(btn)"
       },
       "cell_index": 10,
       "root": true
      }
     ]
    },
    "952cce7dcd754d61bc06091d00fcc630": {
     "views": []
    },
    "9724603866ae4fef8ef68cf93c2a5f4e": {
     "views": []
    },
    "9ca9d6951c9047b891a2bf6997d75ed2": {
     "views": []
    },
    "9d67bafe81af4956adc371a4ab840e4c": {
     "views": []
    },
    "9d8ccd42091248d1bcaa2888ca1276ab": {
     "views": []
    },
    "9e51adac338e48d7aa73d340ccd2a48f": {
     "views": []
    },
    "a06f511e232e4a1bafc14bbe6f187034": {
     "views": []
    },
    "a17a9e9f67a94c11b4e4338204ef199e": {
     "views": [
      {
       "cell": {
        "cell_type": "code",
        "execution_count": 6,
        "metadata": {
         "collapsed": false,
         "scrolled": true,
         "trusted": true
        },
        "outputs": [
         {
          "name": "stdout",
          "output_type": "stream",
          "text": "更新映射内容到数据库中\n"
         }
        ],
        "source": "def _fn(e):\n    print('共有', raw_count, '个待映射的名称')\n    for i, name in enumerate(raw_datas):\n        print('[{}/{}]: {}'.format(i+1, raw_count, name))\nbtn = widgets.Button(description='显示待处理的院校名称')\nbtn.on_click(_fn)\ndisplay(btn)\n\ndef _fn(e):\n    print('共有', len(results_ok), '个待映射的名称')\n    for i, name in enumerate(results_ok):\n        item = results_ok[i]\n        print('[{}/{}]: {} -> {}'.format(i+1, len(results_ok), item['name'], item['value']))\nbtn = widgets.Button(description='显示完成处理的院校名称')\nbtn.on_click(_fn)\ndisplay(btn)\n\ndef _fn(e):\n    print('共有', len(results_no), '个待映射的名称')\n    for i, name in enumerate(results_no):\n        item = results_no[i]\n        print('[{}/{}]: {}'.format(i+1, len(results_no), item['name']))\nbtn = widgets.Button(description='显示未完成处理的院校名称')\nbtn.on_click(_fn)\ndisplay(btn)\n\ndef _fn(e):\n    print('更新映射内容到数据库中')\n    for i, name in enumerate(results_ok):\n        item = results_ok[i]\n        try:\n            cursor.execute('insert into datamodel.university_name_mapping(verbose_name, standard_name, standard_id) values(%s, %s, %s)', [item['name'], item['value']['name'], item['value']['id']])\n            print('[{}/{}]: {} -> {}'.format(i+1, len(results_ok), item['name'], item['value']))\n        except:\n            continue\n    print('结束更新映射内容到数据库中')\nbtn = widgets.Button(description='更新映射内容到数据库中')\nbtn.on_click(_fn)\ndisplay(btn)\n\ndef _fn(e):\n    print('关闭数据库连接')\n    cursor.close()\n    db.close()\nbtn = widgets.Button(description='关闭数据库连接')\nbtn.on_click(_fn)\ndisplay(btn)"
       },
       "cell_index": 9,
       "root": true
      }
     ]
    },
    "a1b1938f7b174659af97616661a749c5": {
     "views": [
      {
       "cell": {
        "cell_type": "code",
        "execution_count": 6,
        "metadata": {
         "collapsed": false,
         "scrolled": true,
         "trusted": true
        },
        "outputs": [
         {
          "name": "stdout",
          "output_type": "stream",
          "text": "更新映射内容到数据库中\n"
         }
        ],
        "source": "def _fn(e):\n    print('共有', raw_count, '个待映射的名称')\n    for i, name in enumerate(raw_datas):\n        print('[{}/{}]: {}'.format(i+1, raw_count, name))\nbtn = widgets.Button(description='显示待处理的院校名称')\nbtn.on_click(_fn)\ndisplay(btn)\n\ndef _fn(e):\n    print('共有', len(results_ok), '个待映射的名称')\n    for i, name in enumerate(results_ok):\n        item = results_ok[i]\n        print('[{}/{}]: {} -> {}'.format(i+1, len(results_ok), item['name'], item['value']))\nbtn = widgets.Button(description='显示完成处理的院校名称')\nbtn.on_click(_fn)\ndisplay(btn)\n\ndef _fn(e):\n    print('共有', len(results_no), '个待映射的名称')\n    for i, name in enumerate(results_no):\n        item = results_no[i]\n        print('[{}/{}]: {}'.format(i+1, len(results_no), item['name']))\nbtn = widgets.Button(description='显示未完成处理的院校名称')\nbtn.on_click(_fn)\ndisplay(btn)\n\ndef _fn(e):\n    print('更新映射内容到数据库中')\n    for i, name in enumerate(results_ok):\n        item = results_ok[i]\n        try:\n            cursor.execute('insert into datamodel.university_name_mapping(verbose_name, standard_name, standard_id) values(%s, %s, %s)', [item['name'], item['value']['name'], item['value']['id']])\n            print('[{}/{}]: {} -> {}'.format(i+1, len(results_ok), item['name'], item['value']))\n        except:\n            continue\n    print('结束更新映射内容到数据库中')\nbtn = widgets.Button(description='更新映射内容到数据库中')\nbtn.on_click(_fn)\ndisplay(btn)\n\ndef _fn(e):\n    print('关闭数据库连接')\n    cursor.close()\n    db.close()\nbtn = widgets.Button(description='关闭数据库连接')\nbtn.on_click(_fn)\ndisplay(btn)"
       },
       "cell_index": 9,
       "root": true
      }
     ]
    },
    "a2cb80e8133240d4a19cda62987fdf11": {
     "views": []
    },
    "a9912667d4e043229d8b26cce808621a": {
     "views": [
      {
       "cell": {
        "cell_type": "code",
        "execution_count": 6,
        "metadata": {
         "collapsed": false,
         "scrolled": true,
         "trusted": true
        },
        "outputs": [
         {
          "name": "stdout",
          "output_type": "stream",
          "text": "更新映射内容到数据库中\n"
         }
        ],
        "source": "def _fn(e):\n    print('共有', raw_count, '个待映射的名称')\n    for i, name in enumerate(raw_datas):\n        print('[{}/{}]: {}'.format(i+1, raw_count, name))\nbtn = widgets.Button(description='显示待处理的院校名称')\nbtn.on_click(_fn)\ndisplay(btn)\n\ndef _fn(e):\n    print('共有', len(results_ok), '个待映射的名称')\n    for i, name in enumerate(results_ok):\n        item = results_ok[i]\n        print('[{}/{}]: {} -> {}'.format(i+1, len(results_ok), item['name'], item['value']))\nbtn = widgets.Button(description='显示完成处理的院校名称')\nbtn.on_click(_fn)\ndisplay(btn)\n\ndef _fn(e):\n    print('共有', len(results_no), '个待映射的名称')\n    for i, name in enumerate(results_no):\n        item = results_no[i]\n        print('[{}/{}]: {}'.format(i+1, len(results_no), item['name']))\nbtn = widgets.Button(description='显示未完成处理的院校名称')\nbtn.on_click(_fn)\ndisplay(btn)\n\ndef _fn(e):\n    print('更新映射内容到数据库中')\n    for i, name in enumerate(results_ok):\n        item = results_ok[i]\n        try:\n            cursor.execute('insert into datamodel.university_name_mapping(verbose_name, standard_name, standard_id) values(%s, %s, %s)', [item['name'], item['value']['name'], item['value']['id']])\n            print('[{}/{}]: {} -> {}'.format(i+1, len(results_ok), item['name'], item['value']))\n        except:\n            continue\n    print('结束更新映射内容到数据库中')\nbtn = widgets.Button(description='更新映射内容到数据库中')\nbtn.on_click(_fn)\ndisplay(btn)\n\ndef _fn(e):\n    print('关闭数据库连接')\n    cursor.close()\n    db.close()\nbtn = widgets.Button(description='关闭数据库连接')\nbtn.on_click(_fn)\ndisplay(btn)"
       },
       "cell_index": 9,
       "root": true
      }
     ]
    },
    "a9d3d7fa2965421a8d69d31b35b768fa": {
     "views": []
    },
    "ab5b99f10c844a70ba933f9669d9aa61": {
     "views": []
    },
    "aed3d749f21a40e5934730c6755a688b": {
     "views": [
      {
       "cell": {
        "cell_type": "code",
        "execution_count": 6,
        "metadata": {
         "collapsed": false,
         "scrolled": true,
         "trusted": true
        },
        "outputs": [
         {
          "name": "stdout",
          "output_type": "stream",
          "text": "更新映射内容到数据库中\n"
         }
        ],
        "source": "def _fn(e):\n    print('共有', raw_count, '个待映射的名称')\n    for i, name in enumerate(raw_datas):\n        print('[{}/{}]: {}'.format(i+1, raw_count, name))\nbtn = widgets.Button(description='显示待处理的院校名称')\nbtn.on_click(_fn)\ndisplay(btn)\n\ndef _fn(e):\n    print('共有', len(results_ok), '个待映射的名称')\n    for i, name in enumerate(results_ok):\n        item = results_ok[i]\n        print('[{}/{}]: {} -> {}'.format(i+1, len(results_ok), item['name'], item['value']))\nbtn = widgets.Button(description='显示完成处理的院校名称')\nbtn.on_click(_fn)\ndisplay(btn)\n\ndef _fn(e):\n    print('共有', len(results_no), '个待映射的名称')\n    for i, name in enumerate(results_no):\n        item = results_no[i]\n        print('[{}/{}]: {}'.format(i+1, len(results_no), item['name']))\nbtn = widgets.Button(description='显示未完成处理的院校名称')\nbtn.on_click(_fn)\ndisplay(btn)\n\ndef _fn(e):\n    print('更新映射内容到数据库中')\n    for i, name in enumerate(results_ok):\n        item = results_ok[i]\n        try:\n            cursor.execute('insert into datamodel.university_name_mapping(verbose_name, standard_name, standard_id) values(%s, %s, %s)', [item['name'], item['value']['name'], item['value']['id']])\n            print('[{}/{}]: {} -> {}'.format(i+1, len(results_ok), item['name'], item['value']))\n        except:\n            continue\n    print('结束更新映射内容到数据库中')\nbtn = widgets.Button(description='更新映射内容到数据库中')\nbtn.on_click(_fn)\ndisplay(btn)\n\ndef _fn(e):\n    print('关闭数据库连接')\n    cursor.close()\n    db.close()\nbtn = widgets.Button(description='关闭数据库连接')\nbtn.on_click(_fn)\ndisplay(btn)"
       },
       "cell_index": 9,
       "root": true
      }
     ]
    },
    "b07b40eab3984f4bacfdc8cf8129b134": {
     "views": []
    },
    "b1a6f6caf6514ea6b701fa6c3fd8c056": {
     "views": []
    },
    "b20042df6d09415fbe035cde07e02cb1": {
     "views": []
    },
    "b3280fa442864fb59f6d55673d43ef9c": {
     "views": []
    },
    "b608bccf7f4a4963806ff85ff0c3b9bc": {
     "views": []
    },
    "b6b0ab57a05244e891fefc26efc1bff3": {
     "views": []
    },
    "b787d210b0c54b22aee0e7ff3f91a317": {
     "views": []
    },
    "b7f60e8e084f4e6c8398c385f039adf0": {
     "views": []
    },
    "babe31697df1472a9fd15e5a91976faa": {
     "views": []
    },
    "bc14864f01bf4584b47f3ebb83d8dbdb": {
     "views": []
    },
    "bf60c82098404481a58226ab3bc66a76": {
     "views": []
    },
    "c0d34ecc7eed4e77a344ced2fd4e3a0e": {
     "views": []
    },
    "c283f3fa387a4b0a8b667619b2da6f3c": {
     "views": [
      {
       "cell": {
        "cell_type": "code",
        "execution_count": 6,
        "metadata": {
         "collapsed": false,
         "scrolled": true,
         "trusted": true
        },
        "outputs": [
         {
          "name": "stdout",
          "output_type": "stream",
          "text": "更新映射内容到数据库中\n"
         }
        ],
        "source": "def _fn(e):\n    print('共有', raw_count, '个待映射的名称')\n    for i, name in enumerate(raw_datas):\n        print('[{}/{}]: {}'.format(i+1, raw_count, name))\nbtn = widgets.Button(description='显示待处理的院校名称')\nbtn.on_click(_fn)\ndisplay(btn)\n\ndef _fn(e):\n    print('共有', len(results_ok), '个待映射的名称')\n    for i, name in enumerate(results_ok):\n        item = results_ok[i]\n        print('[{}/{}]: {} -> {}'.format(i+1, len(results_ok), item['name'], item['value']))\nbtn = widgets.Button(description='显示完成处理的院校名称')\nbtn.on_click(_fn)\ndisplay(btn)\n\ndef _fn(e):\n    print('共有', len(results_no), '个待映射的名称')\n    for i, name in enumerate(results_no):\n        item = results_no[i]\n        print('[{}/{}]: {}'.format(i+1, len(results_no), item['name']))\nbtn = widgets.Button(description='显示未完成处理的院校名称')\nbtn.on_click(_fn)\ndisplay(btn)\n\ndef _fn(e):\n    print('更新映射内容到数据库中')\n    for i, name in enumerate(results_ok):\n        item = results_ok[i]\n        try:\n            cursor.execute('insert into datamodel.university_name_mapping(verbose_name, standard_name, standard_id) values(%s, %s, %s)', [item['name'], item['value']['name'], item['value']['id']])\n            print('[{}/{}]: {} -> {}'.format(i+1, len(results_ok), item['name'], item['value']))\n        except:\n            continue\n    print('结束更新映射内容到数据库中')\nbtn = widgets.Button(description='更新映射内容到数据库中')\nbtn.on_click(_fn)\ndisplay(btn)\n\ndef _fn(e):\n    print('关闭数据库连接')\n    cursor.close()\n    db.close()\nbtn = widgets.Button(description='关闭数据库连接')\nbtn.on_click(_fn)\ndisplay(btn)"
       },
       "cell_index": 9,
       "root": true
      }
     ]
    },
    "c283fb290d084d3d95d4721203707a3b": {
     "views": []
    },
    "caf372dbadd04226b46550837adb934b": {
     "views": []
    },
    "d1f8848a33b44e008a76fe94f03c1936": {
     "views": [
      {
       "cell": {
        "cell_type": "code",
        "execution_count": 6,
        "metadata": {
         "collapsed": false,
         "scrolled": true,
         "trusted": true
        },
        "outputs": [
         {
          "name": "stdout",
          "output_type": "stream",
          "text": "更新映射内容到数据库中\n"
         }
        ],
        "source": "def _fn(e):\n    print('共有', raw_count, '个待映射的名称')\n    for i, name in enumerate(raw_datas):\n        print('[{}/{}]: {}'.format(i+1, raw_count, name))\nbtn = widgets.Button(description='显示待处理的院校名称')\nbtn.on_click(_fn)\ndisplay(btn)\n\ndef _fn(e):\n    print('共有', len(results_ok), '个待映射的名称')\n    for i, name in enumerate(results_ok):\n        item = results_ok[i]\n        print('[{}/{}]: {} -> {}'.format(i+1, len(results_ok), item['name'], item['value']))\nbtn = widgets.Button(description='显示完成处理的院校名称')\nbtn.on_click(_fn)\ndisplay(btn)\n\ndef _fn(e):\n    print('共有', len(results_no), '个待映射的名称')\n    for i, name in enumerate(results_no):\n        item = results_no[i]\n        print('[{}/{}]: {}'.format(i+1, len(results_no), item['name']))\nbtn = widgets.Button(description='显示未完成处理的院校名称')\nbtn.on_click(_fn)\ndisplay(btn)\n\ndef _fn(e):\n    print('更新映射内容到数据库中')\n    for i, name in enumerate(results_ok):\n        item = results_ok[i]\n        try:\n            cursor.execute('insert into datamodel.university_name_mapping(verbose_name, standard_name, standard_id) values(%s, %s, %s)', [item['name'], item['value']['name'], item['value']['id']])\n            print('[{}/{}]: {} -> {}'.format(i+1, len(results_ok), item['name'], item['value']))\n        except:\n            continue\n    print('结束更新映射内容到数据库中')\nbtn = widgets.Button(description='更新映射内容到数据库中')\nbtn.on_click(_fn)\ndisplay(btn)\n\ndef _fn(e):\n    print('关闭数据库连接')\n    cursor.close()\n    db.close()\nbtn = widgets.Button(description='关闭数据库连接')\nbtn.on_click(_fn)\ndisplay(btn)"
       },
       "cell_index": 9,
       "root": true
      }
     ]
    },
    "d3e13a8cd7b94f03bd2c37efb4a2540c": {
     "views": []
    },
    "d8a4243c4d0e4a0fb6a1a9109e37365e": {
     "views": []
    },
    "daf03f667dd54cf1b5c63b4e9dd3cdd5": {
     "views": []
    },
    "dcb7035187db47cca53f2beb7f9ec2b9": {
     "views": []
    },
    "df2702b5778f487cbc18b394b7e972e1": {
     "views": [
      {
       "cell": {
        "cell_type": "code",
        "execution_count": 6,
        "metadata": {
         "collapsed": false,
         "scrolled": true,
         "trusted": true
        },
        "outputs": [
         {
          "name": "stdout",
          "output_type": "stream",
          "text": "更新映射内容到数据库中\n"
         }
        ],
        "source": "def _fn(e):\n    print('共有', raw_count, '个待映射的名称')\n    for i, name in enumerate(raw_datas):\n        print('[{}/{}]: {}'.format(i+1, raw_count, name))\nbtn = widgets.Button(description='显示待处理的院校名称')\nbtn.on_click(_fn)\ndisplay(btn)\n\ndef _fn(e):\n    print('共有', len(results_ok), '个待映射的名称')\n    for i, name in enumerate(results_ok):\n        item = results_ok[i]\n        print('[{}/{}]: {} -> {}'.format(i+1, len(results_ok), item['name'], item['value']))\nbtn = widgets.Button(description='显示完成处理的院校名称')\nbtn.on_click(_fn)\ndisplay(btn)\n\ndef _fn(e):\n    print('共有', len(results_no), '个待映射的名称')\n    for i, name in enumerate(results_no):\n        item = results_no[i]\n        print('[{}/{}]: {}'.format(i+1, len(results_no), item['name']))\nbtn = widgets.Button(description='显示未完成处理的院校名称')\nbtn.on_click(_fn)\ndisplay(btn)\n\ndef _fn(e):\n    print('更新映射内容到数据库中')\n    for i, name in enumerate(results_ok):\n        item = results_ok[i]\n        try:\n            cursor.execute('insert into datamodel.university_name_mapping(verbose_name, standard_name, standard_id) values(%s, %s, %s)', [item['name'], item['value']['name'], item['value']['id']])\n            print('[{}/{}]: {} -> {}'.format(i+1, len(results_ok), item['name'], item['value']))\n        except:\n            continue\n    print('结束更新映射内容到数据库中')\nbtn = widgets.Button(description='更新映射内容到数据库中')\nbtn.on_click(_fn)\ndisplay(btn)\n\ndef _fn(e):\n    print('关闭数据库连接')\n    cursor.close()\n    db.close()\nbtn = widgets.Button(description='关闭数据库连接')\nbtn.on_click(_fn)\ndisplay(btn)"
       },
       "cell_index": 9,
       "root": true
      }
     ]
    },
    "e185ac1ec7e746d1a579eec88d228a4f": {
     "views": []
    },
    "e1fa3b348e0b4a509c541551a85de5d0": {
     "views": [
      {
       "cell": {
        "cell_type": "code",
        "execution_count": 6,
        "metadata": {
         "collapsed": false,
         "scrolled": true,
         "trusted": true
        },
        "outputs": [
         {
          "name": "stdout",
          "output_type": "stream",
          "text": "更新映射内容到数据库中\n"
         }
        ],
        "source": "def _fn(e):\n    print('共有', raw_count, '个待映射的名称')\n    for i, name in enumerate(raw_datas):\n        print('[{}/{}]: {}'.format(i+1, raw_count, name))\nbtn = widgets.Button(description='显示待处理的院校名称')\nbtn.on_click(_fn)\ndisplay(btn)\n\ndef _fn(e):\n    print('共有', len(results_ok), '个待映射的名称')\n    for i, name in enumerate(results_ok):\n        item = results_ok[i]\n        print('[{}/{}]: {} -> {}'.format(i+1, len(results_ok), item['name'], item['value']))\nbtn = widgets.Button(description='显示完成处理的院校名称')\nbtn.on_click(_fn)\ndisplay(btn)\n\ndef _fn(e):\n    print('共有', len(results_no), '个待映射的名称')\n    for i, name in enumerate(results_no):\n        item = results_no[i]\n        print('[{}/{}]: {}'.format(i+1, len(results_no), item['name']))\nbtn = widgets.Button(description='显示未完成处理的院校名称')\nbtn.on_click(_fn)\ndisplay(btn)\n\ndef _fn(e):\n    print('更新映射内容到数据库中')\n    for i, name in enumerate(results_ok):\n        item = results_ok[i]\n        try:\n            cursor.execute('insert into datamodel.university_name_mapping(verbose_name, standard_name, standard_id) values(%s, %s, %s)', [item['name'], item['value']['name'], item['value']['id']])\n            print('[{}/{}]: {} -> {}'.format(i+1, len(results_ok), item['name'], item['value']))\n        except:\n            continue\n    print('结束更新映射内容到数据库中')\nbtn = widgets.Button(description='更新映射内容到数据库中')\nbtn.on_click(_fn)\ndisplay(btn)\n\ndef _fn(e):\n    print('关闭数据库连接')\n    cursor.close()\n    db.close()\nbtn = widgets.Button(description='关闭数据库连接')\nbtn.on_click(_fn)\ndisplay(btn)"
       },
       "cell_index": 9,
       "root": true
      }
     ]
    },
    "e23fd8a35a534781adf4b85998b8a041": {
     "views": []
    },
    "e790d25663c64ffb9967600b75aa2006": {
     "views": []
    },
    "e7f1acabf6f04a1086545f286d3243a6": {
     "views": []
    },
    "eacd9d002e8744de9df41edcffb20db7": {
     "views": [
      {
       "cell": {
        "cell_type": "code",
        "execution_count": 6,
        "metadata": {
         "collapsed": false,
         "scrolled": true,
         "trusted": true
        },
        "outputs": [
         {
          "name": "stdout",
          "output_type": "stream",
          "text": "更新映射内容到数据库中\n"
         }
        ],
        "source": "def _fn(e):\n    print('共有', raw_count, '个待映射的名称')\n    for i, name in enumerate(raw_datas):\n        print('[{}/{}]: {}'.format(i+1, raw_count, name))\nbtn = widgets.Button(description='显示待处理的院校名称')\nbtn.on_click(_fn)\ndisplay(btn)\n\ndef _fn(e):\n    print('共有', len(results_ok), '个待映射的名称')\n    for i, name in enumerate(results_ok):\n        item = results_ok[i]\n        print('[{}/{}]: {} -> {}'.format(i+1, len(results_ok), item['name'], item['value']))\nbtn = widgets.Button(description='显示完成处理的院校名称')\nbtn.on_click(_fn)\ndisplay(btn)\n\ndef _fn(e):\n    print('共有', len(results_no), '个待映射的名称')\n    for i, name in enumerate(results_no):\n        item = results_no[i]\n        print('[{}/{}]: {}'.format(i+1, len(results_no), item['name']))\nbtn = widgets.Button(description='显示未完成处理的院校名称')\nbtn.on_click(_fn)\ndisplay(btn)\n\ndef _fn(e):\n    print('更新映射内容到数据库中')\n    for i, name in enumerate(results_ok):\n        item = results_ok[i]\n        try:\n            cursor.execute('insert into datamodel.university_name_mapping(verbose_name, standard_name, standard_id) values(%s, %s, %s)', [item['name'], item['value']['name'], item['value']['id']])\n            print('[{}/{}]: {} -> {}'.format(i+1, len(results_ok), item['name'], item['value']))\n        except:\n            continue\n    print('结束更新映射内容到数据库中')\nbtn = widgets.Button(description='更新映射内容到数据库中')\nbtn.on_click(_fn)\ndisplay(btn)\n\ndef _fn(e):\n    print('关闭数据库连接')\n    cursor.close()\n    db.close()\nbtn = widgets.Button(description='关闭数据库连接')\nbtn.on_click(_fn)\ndisplay(btn)"
       },
       "cell_index": 9,
       "root": true
      }
     ]
    },
    "eb00a1ceea8b482893a54bf500202987": {
     "views": []
    },
    "eb7e4b6d7a024510a285f4063fefd5cd": {
     "views": []
    },
    "efe51bd02441412783513449e2996cc5": {
     "views": [
      {
       "cell": {
        "cell_type": "code",
        "execution_count": 6,
        "metadata": {
         "collapsed": false,
         "scrolled": true,
         "trusted": true
        },
        "outputs": [
         {
          "name": "stdout",
          "output_type": "stream",
          "text": "更新映射内容到数据库中\n"
         }
        ],
        "source": "def _fn(e):\n    print('共有', raw_count, '个待映射的名称')\n    for i, name in enumerate(raw_datas):\n        print('[{}/{}]: {}'.format(i+1, raw_count, name))\nbtn = widgets.Button(description='显示待处理的院校名称')\nbtn.on_click(_fn)\ndisplay(btn)\n\ndef _fn(e):\n    print('共有', len(results_ok), '个待映射的名称')\n    for i, name in enumerate(results_ok):\n        item = results_ok[i]\n        print('[{}/{}]: {} -> {}'.format(i+1, len(results_ok), item['name'], item['value']))\nbtn = widgets.Button(description='显示完成处理的院校名称')\nbtn.on_click(_fn)\ndisplay(btn)\n\ndef _fn(e):\n    print('共有', len(results_no), '个待映射的名称')\n    for i, name in enumerate(results_no):\n        item = results_no[i]\n        print('[{}/{}]: {}'.format(i+1, len(results_no), item['name']))\nbtn = widgets.Button(description='显示未完成处理的院校名称')\nbtn.on_click(_fn)\ndisplay(btn)\n\ndef _fn(e):\n    print('更新映射内容到数据库中')\n    for i, name in enumerate(results_ok):\n        item = results_ok[i]\n        try:\n            cursor.execute('insert into datamodel.university_name_mapping(verbose_name, standard_name, standard_id) values(%s, %s, %s)', [item['name'], item['value']['name'], item['value']['id']])\n            print('[{}/{}]: {} -> {}'.format(i+1, len(results_ok), item['name'], item['value']))\n        except:\n            continue\n    print('结束更新映射内容到数据库中')\nbtn = widgets.Button(description='更新映射内容到数据库中')\nbtn.on_click(_fn)\ndisplay(btn)\n\ndef _fn(e):\n    print('关闭数据库连接')\n    cursor.close()\n    db.close()\nbtn = widgets.Button(description='关闭数据库连接')\nbtn.on_click(_fn)\ndisplay(btn)"
       },
       "cell_index": 9,
       "root": true
      }
     ]
    },
    "f0f6c17f61ac4da6b114fa1b185b27fa": {
     "views": []
    },
    "f4b56a54b3e140a983ffae2b9e86d09a": {
     "views": []
    },
    "f4d8319869fb4948af1b5f6a22b91c64": {
     "views": [
      {
       "cell": {
        "cell_type": "code",
        "execution_count": 6,
        "metadata": {
         "collapsed": false,
         "scrolled": true,
         "trusted": true
        },
        "outputs": [
         {
          "name": "stdout",
          "output_type": "stream",
          "text": "更新映射内容到数据库中\n"
         }
        ],
        "source": "def _fn(e):\n    print('共有', raw_count, '个待映射的名称')\n    for i, name in enumerate(raw_datas):\n        print('[{}/{}]: {}'.format(i+1, raw_count, name))\nbtn = widgets.Button(description='显示待处理的院校名称')\nbtn.on_click(_fn)\ndisplay(btn)\n\ndef _fn(e):\n    print('共有', len(results_ok), '个待映射的名称')\n    for i, name in enumerate(results_ok):\n        item = results_ok[i]\n        print('[{}/{}]: {} -> {}'.format(i+1, len(results_ok), item['name'], item['value']))\nbtn = widgets.Button(description='显示完成处理的院校名称')\nbtn.on_click(_fn)\ndisplay(btn)\n\ndef _fn(e):\n    print('共有', len(results_no), '个待映射的名称')\n    for i, name in enumerate(results_no):\n        item = results_no[i]\n        print('[{}/{}]: {}'.format(i+1, len(results_no), item['name']))\nbtn = widgets.Button(description='显示未完成处理的院校名称')\nbtn.on_click(_fn)\ndisplay(btn)\n\ndef _fn(e):\n    print('更新映射内容到数据库中')\n    for i, name in enumerate(results_ok):\n        item = results_ok[i]\n        try:\n            cursor.execute('insert into datamodel.university_name_mapping(verbose_name, standard_name, standard_id) values(%s, %s, %s)', [item['name'], item['value']['name'], item['value']['id']])\n            print('[{}/{}]: {} -> {}'.format(i+1, len(results_ok), item['name'], item['value']))\n        except:\n            continue\n    print('结束更新映射内容到数据库中')\nbtn = widgets.Button(description='更新映射内容到数据库中')\nbtn.on_click(_fn)\ndisplay(btn)\n\ndef _fn(e):\n    print('关闭数据库连接')\n    cursor.close()\n    db.close()\nbtn = widgets.Button(description='关闭数据库连接')\nbtn.on_click(_fn)\ndisplay(btn)"
       },
       "cell_index": 9,
       "root": true
      }
     ]
    },
    "f8057b66e88e444c832112d67bf88aa7": {
     "views": [
      {
       "cell": {
        "cell_type": "code",
        "execution_count": 6,
        "metadata": {
         "collapsed": false,
         "scrolled": true,
         "trusted": true
        },
        "outputs": [
         {
          "name": "stdout",
          "output_type": "stream",
          "text": "更新映射内容到数据库中\n"
         }
        ],
        "source": "def _fn(e):\n    print('共有', raw_count, '个待映射的名称')\n    for i, name in enumerate(raw_datas):\n        print('[{}/{}]: {}'.format(i+1, raw_count, name))\nbtn = widgets.Button(description='显示待处理的院校名称')\nbtn.on_click(_fn)\ndisplay(btn)\n\ndef _fn(e):\n    print('共有', len(results_ok), '个待映射的名称')\n    for i, name in enumerate(results_ok):\n        item = results_ok[i]\n        print('[{}/{}]: {} -> {}'.format(i+1, len(results_ok), item['name'], item['value']))\nbtn = widgets.Button(description='显示完成处理的院校名称')\nbtn.on_click(_fn)\ndisplay(btn)\n\ndef _fn(e):\n    print('共有', len(results_no), '个待映射的名称')\n    for i, name in enumerate(results_no):\n        item = results_no[i]\n        print('[{}/{}]: {}'.format(i+1, len(results_no), item['name']))\nbtn = widgets.Button(description='显示未完成处理的院校名称')\nbtn.on_click(_fn)\ndisplay(btn)\n\ndef _fn(e):\n    print('更新映射内容到数据库中')\n    for i, name in enumerate(results_ok):\n        item = results_ok[i]\n        try:\n            cursor.execute('insert into datamodel.university_name_mapping(verbose_name, standard_name, standard_id) values(%s, %s, %s)', [item['name'], item['value']['name'], item['value']['id']])\n            print('[{}/{}]: {} -> {}'.format(i+1, len(results_ok), item['name'], item['value']))\n        except:\n            continue\n    print('结束更新映射内容到数据库中')\nbtn = widgets.Button(description='更新映射内容到数据库中')\nbtn.on_click(_fn)\ndisplay(btn)\n\ndef _fn(e):\n    print('关闭数据库连接')\n    cursor.close()\n    db.close()\nbtn = widgets.Button(description='关闭数据库连接')\nbtn.on_click(_fn)\ndisplay(btn)"
       },
       "cell_index": 9,
       "root": true
      }
     ]
    },
    "f89b32fabc7e4ce89504ee3d296e377f": {
     "views": []
    },
    "fb5139b2cbeb4ec6a72fd4f7dbb4e5fa": {
     "views": [
      {
       "cell": {
        "cell_type": "code",
        "execution_count": 6,
        "metadata": {
         "collapsed": false,
         "scrolled": true,
         "trusted": true
        },
        "outputs": [
         {
          "name": "stdout",
          "output_type": "stream",
          "text": "更新映射内容到数据库中\n"
         }
        ],
        "source": "def _fn(e):\n    print('共有', raw_count, '个待映射的名称')\n    for i, name in enumerate(raw_datas):\n        print('[{}/{}]: {}'.format(i+1, raw_count, name))\nbtn = widgets.Button(description='显示待处理的院校名称')\nbtn.on_click(_fn)\ndisplay(btn)\n\ndef _fn(e):\n    print('共有', len(results_ok), '个待映射的名称')\n    for i, name in enumerate(results_ok):\n        item = results_ok[i]\n        print('[{}/{}]: {} -> {}'.format(i+1, len(results_ok), item['name'], item['value']))\nbtn = widgets.Button(description='显示完成处理的院校名称')\nbtn.on_click(_fn)\ndisplay(btn)\n\ndef _fn(e):\n    print('共有', len(results_no), '个待映射的名称')\n    for i, name in enumerate(results_no):\n        item = results_no[i]\n        print('[{}/{}]: {}'.format(i+1, len(results_no), item['name']))\nbtn = widgets.Button(description='显示未完成处理的院校名称')\nbtn.on_click(_fn)\ndisplay(btn)\n\ndef _fn(e):\n    print('更新映射内容到数据库中')\n    for i, name in enumerate(results_ok):\n        item = results_ok[i]\n        try:\n            cursor.execute('insert into datamodel.university_name_mapping(verbose_name, standard_name, standard_id) values(%s, %s, %s)', [item['name'], item['value']['name'], item['value']['id']])\n            print('[{}/{}]: {} -> {}'.format(i+1, len(results_ok), item['name'], item['value']))\n        except:\n            continue\n    print('结束更新映射内容到数据库中')\nbtn = widgets.Button(description='更新映射内容到数据库中')\nbtn.on_click(_fn)\ndisplay(btn)\n\ndef _fn(e):\n    print('关闭数据库连接')\n    cursor.close()\n    db.close()\nbtn = widgets.Button(description='关闭数据库连接')\nbtn.on_click(_fn)\ndisplay(btn)"
       },
       "cell_index": 9,
       "root": true
      }
     ]
    },
    "fc27cccecf8c405abf423e91bf016825": {
     "views": []
    },
    "fddcaa0faf5b4991864b9810f2389701": {
     "views": [
      {
       "cell": {
        "cell_type": "code",
        "execution_count": 6,
        "metadata": {
         "collapsed": false,
         "scrolled": true,
         "trusted": true
        },
        "outputs": [
         {
          "name": "stdout",
          "output_type": "stream",
          "text": "更新映射内容到数据库中\n"
         }
        ],
        "source": "def _fn(e):\n    print('共有', raw_count, '个待映射的名称')\n    for i, name in enumerate(raw_datas):\n        print('[{}/{}]: {}'.format(i+1, raw_count, name))\nbtn = widgets.Button(description='显示待处理的院校名称')\nbtn.on_click(_fn)\ndisplay(btn)\n\ndef _fn(e):\n    print('共有', len(results_ok), '个待映射的名称')\n    for i, name in enumerate(results_ok):\n        item = results_ok[i]\n        print('[{}/{}]: {} -> {}'.format(i+1, len(results_ok), item['name'], item['value']))\nbtn = widgets.Button(description='显示完成处理的院校名称')\nbtn.on_click(_fn)\ndisplay(btn)\n\ndef _fn(e):\n    print('共有', len(results_no), '个待映射的名称')\n    for i, name in enumerate(results_no):\n        item = results_no[i]\n        print('[{}/{}]: {}'.format(i+1, len(results_no), item['name']))\nbtn = widgets.Button(description='显示未完成处理的院校名称')\nbtn.on_click(_fn)\ndisplay(btn)\n\ndef _fn(e):\n    print('更新映射内容到数据库中')\n    for i, name in enumerate(results_ok):\n        item = results_ok[i]\n        try:\n            cursor.execute('insert into datamodel.university_name_mapping(verbose_name, standard_name, standard_id) values(%s, %s, %s)', [item['name'], item['value']['name'], item['value']['id']])\n            print('[{}/{}]: {} -> {}'.format(i+1, len(results_ok), item['name'], item['value']))\n        except:\n            continue\n    print('结束更新映射内容到数据库中')\nbtn = widgets.Button(description='更新映射内容到数据库中')\nbtn.on_click(_fn)\ndisplay(btn)\n\ndef _fn(e):\n    print('关闭数据库连接')\n    cursor.close()\n    db.close()\nbtn = widgets.Button(description='关闭数据库连接')\nbtn.on_click(_fn)\ndisplay(btn)"
       },
       "cell_index": 9,
       "root": true
      }
     ]
    },
    "ff6dec635dab40fc9c05478b97788766": {
     "views": []
    },
    "ffed6d3c987943968da0c6fcecf35601": {
     "views": []
    }
   },
   "version": "1.0.0"
  }
 },
 "nbformat": 4,
 "nbformat_minor": 0
}
