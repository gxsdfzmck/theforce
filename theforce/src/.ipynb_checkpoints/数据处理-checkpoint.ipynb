{
 "cells": [
  {
   "cell_type": "markdown",
   "metadata": {},
   "source": [
    "# 配置"
   ]
  },
  {
   "cell_type": "code",
   "execution_count": 1,
   "metadata": {
    "collapsed": true
   },
   "outputs": [],
   "source": [
    "# 系统级\n",
    "import sys\n",
    "import os.path\n",
    "import itertools\n",
    "import operator\n",
    "# 第三方\n",
    "import yaml\n",
    "import MySQLdb\n",
    "from openpyxl import load_workbook\n",
    "from pymongo.mongo_client import MongoClient\n",
    "# 本地依赖\n",
    "import config\n",
    "from loader import ExcelLoader\n",
    "from model import get_attrs, get_collection\n",
    "from logger import echo_header\n",
    "from command import Commander\n",
    "from util import get_logger, stringify\n",
    "# 交互\n",
    "import ipywidgets\n",
    "from IPython.display import display\n",
    "\n",
    "paths = []\n",
    "# Sample\n",
    "# paths = ['/Users/hqingyi/Ent/百度云同步盘/大数据平台建设/2016数据/24.吉林/2014_院校专业']\n",
    "# paths.append('')"
   ]
  },
  {
   "cell_type": "code",
   "execution_count": 2,
   "metadata": {
    "collapsed": false
   },
   "outputs": [
    {
     "ename": "UnicodeDecodeError",
     "evalue": "'ascii' codec can't decode byte 0xe9 in position 6: ordinal not in range(128)",
     "output_type": "error",
     "traceback": [
      "\u001b[0;31m---------------------------------------------------------------------------\u001b[0m",
      "\u001b[0;31mUnicodeDecodeError\u001b[0m                        Traceback (most recent call last)",
      "\u001b[0;32m<ipython-input-2-2f070fc1d21c>\u001b[0m in \u001b[0;36m<module>\u001b[0;34m()\u001b[0m\n\u001b[1;32m     19\u001b[0m \u001b[0;34m\u001b[0m\u001b[0m\n\u001b[1;32m     20\u001b[0m \u001b[0;31m# 2014年数据\u001b[0m\u001b[0;34m\u001b[0m\u001b[0;34m\u001b[0m\u001b[0m\n\u001b[0;32m---> 21\u001b[0;31m \u001b[0mpaths\u001b[0m\u001b[0;34m.\u001b[0m\u001b[0mappend\u001b[0m\u001b[0;34m(\u001b[0m\u001b[0mos\u001b[0m\u001b[0;34m.\u001b[0m\u001b[0mpath\u001b[0m\u001b[0;34m.\u001b[0m\u001b[0mjoin\u001b[0m\u001b[0;34m(\u001b[0m\u001b[0mdirname\u001b[0m\u001b[0;34m,\u001b[0m \u001b[0;34m'2014_院校专业'\u001b[0m\u001b[0;34m)\u001b[0m\u001b[0;34m)\u001b[0m\u001b[0;34m\u001b[0m\u001b[0m\n\u001b[0m\u001b[1;32m     22\u001b[0m \u001b[0;34m\u001b[0m\u001b[0m\n\u001b[1;32m     23\u001b[0m \u001b[0;31m# 分档表\u001b[0m\u001b[0;34m\u001b[0m\u001b[0;34m\u001b[0m\u001b[0m\n",
      "\u001b[0;32m/opt/pyenv/versions/2.7.10/lib/python2.7/posixpath.pyc\u001b[0m in \u001b[0;36mjoin\u001b[0;34m(a, *p)\u001b[0m\n\u001b[1;32m     71\u001b[0m             \u001b[0mpath\u001b[0m \u001b[0;34m+=\u001b[0m  \u001b[0mb\u001b[0m\u001b[0;34m\u001b[0m\u001b[0m\n\u001b[1;32m     72\u001b[0m         \u001b[0;32melse\u001b[0m\u001b[0;34m:\u001b[0m\u001b[0;34m\u001b[0m\u001b[0m\n\u001b[0;32m---> 73\u001b[0;31m             \u001b[0mpath\u001b[0m \u001b[0;34m+=\u001b[0m \u001b[0;34m'/'\u001b[0m \u001b[0;34m+\u001b[0m \u001b[0mb\u001b[0m\u001b[0;34m\u001b[0m\u001b[0m\n\u001b[0m\u001b[1;32m     74\u001b[0m     \u001b[0;32mreturn\u001b[0m \u001b[0mpath\u001b[0m\u001b[0;34m\u001b[0m\u001b[0m\n\u001b[1;32m     75\u001b[0m \u001b[0;34m\u001b[0m\u001b[0m\n",
      "\u001b[0;31mUnicodeDecodeError\u001b[0m: 'ascii' codec can't decode byte 0xe9 in position 6: ordinal not in range(128)"
     ]
    }
   ],
   "source": [
    "# 吉林数据\n",
    "dirname = u'/Users/hqingyi/Ent/百度云同步盘/大数据平台建设/2016数据/24.吉林'\n",
    "# paths.append(os.path.join(dirname, '2013_专业/.yml'))\n",
    "\n",
    "# 杜肖 - 吉林(大本)_2013_院校专业_理科_本一B(2)本二本三专科.结果\n",
    "# paths.append(os.path.join(dirname, '2013_专业/吉林(大本)_2013_院校专业_理科_本一B(2)本二本三专科.结果.专业.yml'))\n",
    "# paths.append(os.path.join(dirname, '2013_专业/吉林(大本)_2013_院校专业_理科_本一B(2)本二本三专科.结果.院校.yml'))\n",
    "\n",
    "# 彭遥 2013_院校专业_理科_批前批 & 2013_院校专业_文科_提前批本一\n",
    "#paths.append(os.path.join(dirname, '2013_专业/吉林(大本)_2013_院校专业_理科_批前批(修改版).结果.专业.yml'))\n",
    "#paths.append(os.path.join(dirname, '2013_专业/吉林(大本)_2013_院校专业_理科_批前批(修改版).结果.院校.yml'))\n",
    "#paths.append(os.path.join(dirname, '2013_专业/吉林(大本)_2013_院校专业_文科_提前批本一(修改版).结果.专业.yml'))\n",
    "#paths.append(os.path.join(dirname, '2013_专业/吉林(大本)_2013_院校专业_文科_提前批本一(修改版).结果.院校.yml'))\n",
    "\n",
    "# 赵旋丞 2013_文科_本二本三(修改版) & 2013_院校专业_文科_提前批本一\n",
    "#paths.append(os.path.join(dirname, '2013_专业/吉林(大本)_2013_院校专业_文科_本二本三(修改版).结果.专业.yml'))\n",
    "#paths.append(os.path.join(dirname, '2013_专业/吉林(大本)_2013_院校专业_文科_本二本三(修改版).结果.院校.yml'))\n",
    "\n",
    "\n",
    "# 2014年数据\n",
    "paths.append(os.path.join(dirname, u'2014_院校专业'))\n",
    "\n",
    "# 分档表\n",
    "#paths.append(os.path.join(dirname,u'吉林(官网)_分档表_2013~2015.yml'))"
   ]
  },
  {
   "cell_type": "markdown",
   "metadata": {},
   "source": [
    " # 初始化"
   ]
  },
  {
   "cell_type": "code",
   "execution_count": null,
   "metadata": {
    "collapsed": false
   },
   "outputs": [],
   "source": [
    "# 初始化并加载\n",
    "commander = Commander(paths)\n",
    "commander.load_data()\n",
    "# 原始结果\n",
    "commander.summary(save=True)"
   ]
  },
  {
   "cell_type": "markdown",
   "metadata": {},
   "source": [
    "# 功能列表"
   ]
  },
  {
   "cell_type": "code",
   "execution_count": null,
   "metadata": {
    "collapsed": false,
    "scrolled": true
   },
   "outputs": [],
   "source": [
    "buttons = []\n",
    "# 校验功能\n",
    "def _validation(e):\n",
    "    print u'开始校验...'\n",
    "    commander.do_validation()\n",
    "    print commander.summary()\n",
    "    print u'结束校验...'\n",
    "btn_validation = ipywidgets.Button(description=u'校验规则', icon='fa-rocket')\n",
    "btn_validation.on_click(_validation)\n",
    "buttons.append(btn_validation)\n",
    "\n",
    "# 校验功能\n",
    "def _print_error(e):\n",
    "    print u'开始打印错误内容...'\n",
    "    print commander.summary()\n",
    "    commander.echo_error() \n",
    "    print u'结束打印...'\n",
    "btn_print_error = ipywidgets.Button(description=u'打印错误内容', icon='fa-rocket')\n",
    "btn_print_error.on_click(_print_error)\n",
    "buttons.append(btn_print_error)\n",
    "\n",
    "# 基础纠错\n",
    "def _base_correct(e):\n",
    "    print u'开始基础纠错(原始属性)'\n",
    "    commander.do_base_correct()\n",
    "    print commander.summary()\n",
    "    print u'结束纠错...'\n",
    "btn_base_correct = ipywidgets.Button(description=u'基础纠错', icon='fa-rocket')\n",
    "btn_base_correct.on_click(_base_correct)\n",
    "buttons.append(btn_base_correct)\n",
    "\n",
    "# 计算扩展属性\n",
    "def _ext(e):\n",
    "    print u'开始计算扩展属性'\n",
    "    commander.do_extend()\n",
    "    print commander.summary()\n",
    "    print u'结束计算扩展属性...'\n",
    "btn_ext = ipywidgets.Button(description=u'计算扩展属性', icon='fa-rocket')\n",
    "btn_ext.on_click(_ext)\n",
    "buttons.append(btn_ext)\n",
    "\n",
    "# 全面纠错\n",
    "def _correct(e):\n",
    "    print u'开始全面纠错'\n",
    "    commander.do_base_correct()\n",
    "    print commander.summary()\n",
    "    print u'结束纠错...'\n",
    "btn_correct = ipywidgets.Button(description=u'全面纠错', icon='fa-rocket')\n",
    "btn_correct.on_click(_correct)\n",
    "buttons.append(btn_correct)\n",
    "\n",
    "\n",
    "# 全局校验\n",
    "def _validate_group(e):\n",
    "    print u'开始全局校验'\n",
    "    commander.do_group_validation()\n",
    "    print u'结束校验...'\n",
    "btn_group_validate = ipywidgets.Button(description=u'全局校验', icon='fa-rocket')\n",
    "btn_group_validate.on_click(_validate_group)\n",
    "buttons.append(btn_group_validate)\n",
    "\n",
    "# 显示全局校验结果\n",
    "def _show_validate_group(e):\n",
    "    print u'显示全局校验'\n",
    "    commander.echo_error(loggers=['order', 'duplicate']) \n",
    "    print u'结束校验...'\n",
    "btn_show_group_validate = ipywidgets.Button(description=u'显示全局校验', icon='fa-rocket')\n",
    "btn_show_group_validate.on_click(_show_validate_group)\n",
    "buttons.append(btn_show_group_validate)\n",
    "\n",
    "# 行级校验\n",
    "def _validate_row(e):\n",
    "    print u'开始行级校验'\n",
    "    commander.do_row_validation()\n",
    "    print u'结束行级校验...'\n",
    "btn_row_validate = ipywidgets.Button(description=u'行级校验', icon='fa-rocket')\n",
    "btn_row_validate.on_click(_validate_row)\n",
    "buttons.append(btn_row_validate)\n",
    "\n",
    "# 显示行级校验结果\n",
    "def _show_validate_row(e):\n",
    "    print u'显示行级校验'\n",
    "    commander.echo_error(loggers=['validation_row']) \n",
    "    print u'结束行级校验...'\n",
    "btn_show_row_validate = ipywidgets.Button(description=u'显示行级校验', icon='fa-rocket')\n",
    "btn_show_row_validate.on_click(_show_validate_row)\n",
    "buttons.append(btn_show_row_validate)\n",
    "\n",
    "# 行级纠错\n",
    "def _correct_row(e):\n",
    "    print u'开始行级纠错'\n",
    "    commander.do_row_correction()\n",
    "    print u'结束行级纠错...'\n",
    "btn_row_correction = ipywidgets.Button(description=u'行级纠错', icon='fa-rocket')\n",
    "btn_row_correction.on_click(_correct_row)\n",
    "buttons.append(btn_row_correction)\n",
    "\n",
    "for btn in buttons:\n",
    "    btn.width = '150px'\n",
    "    display(btn)"
   ]
  },
  {
   "cell_type": "markdown",
   "metadata": {},
   "source": [
    "# 分级校验及智能纠错"
   ]
  },
  {
   "cell_type": "code",
   "execution_count": null,
   "metadata": {
    "collapsed": false,
    "scrolled": false
   },
   "outputs": [],
   "source": [
    "# 校验功能\n",
    "def _one_key_load(e):\n",
    "    print u'进行初始化后的校验...'\n",
    "    commander.do_validation()\n",
    "    print commander.summary()\n",
    "    print u'针对基础属性执行纠错功能...'\n",
    "    commander.do_base_correct()\n",
    "    commander.do_validation()\n",
    "    print commander.summary()\n",
    "    print u'计算扩展属性...'\n",
    "    commander.do_extend()\n",
    "    commander.do_validation()\n",
    "    print commander.summary()\n",
    "    print u'完整再次纠错...'\n",
    "    commander.do_correct()\n",
    "    commander.do_validation()\n",
    "    print commander.summary()\n",
    "btn_one_key_load = ipywidgets.Button(description=u' I: 基础校验 & 纠错', icon='fa-rocket')\n",
    "btn_one_key_load.on_click(_one_key_load)\n",
    "btn_one_key_load.width = '150px'\n",
    "display(btn_one_key_load)\n",
    "\n",
    "btn_print_error = ipywidgets.Button(description=u'打印错误内容', icon='fa-rocket')\n",
    "btn_print_error.on_click(_print_error)\n",
    "btn_print_error.width = '150px'\n",
    "display(btn_print_error)\n",
    "\n",
    "# 行级校验\n",
    "def _do_validate_row(e):\n",
    "    print u'开始行级纠错 & 校验并显示结果'\n",
    "    commander.do_row_correction()\n",
    "    commander.do_row_validation()\n",
    "    commander.echo_error(loggers=['validation_row']) \n",
    "    print u'结束行级校验...'\n",
    "btn_validate3 = ipywidgets.Button(description=u' II: 行级校验 & 纠错', icon='fa-rocket')\n",
    "btn_validate3.on_click(_do_validate_row)\n",
    "btn_validate3.width = '150px'\n",
    "display(btn_validate3)\n",
    "\n",
    "# 全局校验\n",
    "def _do_validate_group(e):\n",
    "    print u'开始全局校验并展示结果'\n",
    "    commander.do_group_validation()\n",
    "    commander.echo_error(loggers=['order', 'duplicate', 'continuous_unique']) \n",
    "    print u'结束校验...'\n",
    "btn_validate2 = ipywidgets.Button(description=u' III: 全局校验 & 纠错', icon='fa-rocket')\n",
    "btn_validate2.on_click(_do_validate_group)\n",
    "btn_validate2.width = '150px'\n",
    "display(btn_validate2)\n",
    "\n",
    "# 抽样校验\n",
    "def _do_sample_group(e):\n",
    "    print u'开始抽样校验'\n",
    "    commander.do_sample_validation()\n",
    "    print u'结束校验...'\n",
    "btn_validate4 = ipywidgets.Button(description=u' IV: 抽样校验', icon='fa-rocket')\n",
    "btn_validate4.on_click(_do_sample_group)\n",
    "btn_validate4.width = '150px'\n",
    "display(btn_validate4)\n",
    "\n",
    "# 抽样校验\n",
    "def _do_count_group(e):\n",
    "    print u'开始计数校验'\n",
    "    commander.do_count_validation()\n",
    "    print u'结束校验...'\n",
    "btn_validate5 = ipywidgets.Button(description=u' V: 计数校验', icon='fa-rocket')\n",
    "btn_validate5.on_click(_do_count_group)\n",
    "btn_validate5.width = '150px'\n",
    "display(btn_validate5)"
   ]
  },
  {
   "cell_type": "markdown",
   "metadata": {},
   "source": [
    "# 手工修正数据"
   ]
  },
  {
   "cell_type": "code",
   "execution_count": null,
   "metadata": {
    "collapsed": false,
    "scrolled": false
   },
   "outputs": [],
   "source": [
    "# 校验功能\n",
    "loggers = ['validation']\n",
    "def _manual_fix(e):\n",
    "    print u'开始手工校验...'\n",
    "    def modify(col_item, man_input):\n",
    "        def inner(event):\n",
    "            new_value = man_input.value\n",
    "            commander.manual_set(col_item, new_value)\n",
    "        return inner\n",
    "    for meta, error_datas in commander.loop_error_item(loggers):\n",
    "        \n",
    "        display(ipywidgets.HTML(value=\"<h4>\"+commander.str_meta(meta)+\"</h4>\"))\n",
    "        for row_data in error_datas:\n",
    "            display(ipywidgets.HTML(value=commander.str_item(row_data, html=True)))\n",
    "            display(ipywidgets.HTML(value=commander.str_item_error(row_data, html=True)))\n",
    "            for logger in loggers:\n",
    "                errors = get_logger(logger, row_data)\n",
    "                if errors and len(errors)>0:\n",
    "                    display(ipywidgets.HTML(value=u\"<h6>行级错误:\"+logger+\"</h6>\"))\n",
    "                    for error in errors:\n",
    "                        display(ipywidgets.HTML(value=error))\n",
    "            # 暂时只支持手工修正 ’raw'，以便回写\n",
    "            for col_data in itertools.chain(row_data['raw'], []):\n",
    "                for logger in loggers:\n",
    "                    errors = get_logger(logger, col_data)\n",
    "                    if errors and len(errors)>0:\n",
    "                        display(ipywidgets.HTML(value=u\"<h6>列级错误:\"+logger+\"</h6>\"))\n",
    "                        for error in errors:\n",
    "                            display(ipywidgets.HTML(value=error))\n",
    "                        \n",
    "                        value = stringify(col_data['value'])\n",
    "                        man_input = ipywidgets.Text(description=col_data['key'], value=value)\n",
    "                        man_click = ipywidgets.Button(description=u'修改')\n",
    "                        man_click.width = '150px'\n",
    "                        man_click.on_click(modify(col_data, man_input))\n",
    "\n",
    "                        display(man_input)\n",
    "                        display(man_click)\n",
    "\n",
    "btn_start_fix = ipywidgets.Button(description=u' 手工修正数据', icon='fa-rocket')\n",
    "btn_start_fix.on_click(_manual_fix)\n",
    "btn_start_fix.width = '150px'\n",
    "display(btn_start_fix)\n"
   ]
  },
  {
   "cell_type": "markdown",
   "metadata": {},
   "source": [
    "# 保存结果"
   ]
  },
  {
   "cell_type": "code",
   "execution_count": null,
   "metadata": {
    "collapsed": false,
    "scrolled": false
   },
   "outputs": [],
   "source": [
    "def _save_to_excel(e):\n",
    "    print u'把修复写回excel表中...'\n",
    "    commander.do_save_to_excel()\n",
    "    print u'结束回写'\n",
    "btn_save2excel = ipywidgets.Button(description=u' 写回Excel', icon='fa-rocket')\n",
    "btn_save2excel.on_click(_save_to_excel)\n",
    "btn_save2excel.width = '250px'\n",
    "display(btn_save2excel)\n",
    "\n",
    "def _save_to_mysql(e):\n",
    "    print u'同步到MySQL数据库中...'\n",
    "    commander.do_save_to_mysql()\n",
    "    print u'结束同步'\n",
    "btn_save2mysql = ipywidgets.Button(description=u' 同步到MySQL数据库', icon='fa-rocket')\n",
    "btn_save2mysql.on_click(_save_to_mysql)\n",
    "btn_save2mysql.width = '250px'\n",
    "display(btn_save2mysql)"
   ]
  },
  {
   "cell_type": "raw",
   "metadata": {
    "collapsed": false
   },
   "source": [
    "#%debug commander.do_sample_validation()\n",
    "#commander._raw[1][1][6]\n",
    "#%debug commander.do_count_validation()"
   ]
  }
 ],
 "metadata": {
  "kernelspec": {
   "display_name": "Python 2",
   "language": "python",
   "name": "python2"
  },
  "language_info": {
   "codemirror_mode": {
    "name": "ipython",
    "version": 2
   },
   "file_extension": ".py",
   "mimetype": "text/x-python",
   "name": "python",
   "nbconvert_exporter": "python",
   "pygments_lexer": "ipython2",
   "version": "2.7.10"
  }
 },
 "nbformat": 4,
 "nbformat_minor": 0
}
